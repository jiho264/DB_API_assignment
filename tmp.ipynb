{
 "cells": [
  {
   "cell_type": "code",
   "execution_count": 33,
   "metadata": {},
   "outputs": [
    {
     "name": "stdout",
     "output_type": "stream",
     "text": [
      "[*********************100%%**********************]  3 of 3 completed\n",
      "                  AAPL     NQ=F        NVDA\n",
      "Date                                       \n",
      "2023-11-10  186.399994  15583.0  483.350006\n"
     ]
    }
   ],
   "source": [
    "import yfinance as yf\n",
    "\n",
    "dja = yf.download([\"NQ=F\", \"NVDA\", \"AAPL\"], start=\"2023-11-11\")\n",
    "#dja[\"Close\"]\n",
    "print(dja[\"Adj Close\"])\n",
    "#data = yf.download([\"AAPL\", \"MU\"], start=\"2023-11-01\")\n",
    "#data[\"Close\"]"
   ]
  },
  {
   "cell_type": "code",
   "execution_count": null,
   "metadata": {},
   "outputs": [],
   "source": []
  }
 ],
 "metadata": {
  "kernelspec": {
   "display_name": "Python 3",
   "language": "python",
   "name": "python3"
  },
  "language_info": {
   "codemirror_mode": {
    "name": "ipython",
    "version": 3
   },
   "file_extension": ".py",
   "mimetype": "text/x-python",
   "name": "python",
   "nbconvert_exporter": "python",
   "pygments_lexer": "ipython3",
   "version": "3.12.0"
  }
 },
 "nbformat": 4,
 "nbformat_minor": 2
}
