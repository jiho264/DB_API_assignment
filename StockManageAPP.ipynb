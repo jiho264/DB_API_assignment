{
 "cells": [
  {
   "cell_type": "markdown",
   "metadata": {},
   "source": [
    "# 1. APP Loading"
   ]
  },
  {
   "cell_type": "markdown",
   "metadata": {},
   "source": [
    "## 1.0. Open Database"
   ]
  },
  {
   "cell_type": "code",
   "execution_count": 1,
   "metadata": {},
   "outputs": [
    {
     "name": "stdout",
     "output_type": "stream",
     "text": [
      "Database initilized! load data from API and insert into database...\n"
     ]
    },
    {
     "name": "stderr",
     "output_type": "stream",
     "text": [
      "/Users/jiho/Desktop/DB_API_assignment/db/init_db.py:55: FutureWarning: Series.__getitem__ treating keys as positions is deprecated. In a future version, integer keys will always be treated as labels (consistent with DataFrame behavior). To access a value by position, use `ser.iloc[pos]`\n",
      "  row[1] = str(row[1]).zfill(6)\n",
      "/Users/jiho/Desktop/DB_API_assignment/db/init_db.py:55: FutureWarning: Series.__setitem__ treating keys as positions is deprecated. In a future version, integer keys will always be treated as labels (consistent with DataFrame behavior). To set a value by position, use `ser.iloc[pos] = value`\n",
      "  row[1] = str(row[1]).zfill(6)\n"
     ]
    }
   ],
   "source": [
    "import requests\n",
    "import pandas as pd\n",
    "import sqlite3\n",
    "import tqdm\n",
    "import requests as rq\n",
    "from bs4 import BeautifulSoup\n",
    "from io import BytesIO\n",
    "import re\n",
    "import matplotlib.pyplot as plt\n",
    "\n",
    "plt.rcParams[\"font.family\"] = \"AppleGothic\"\n",
    "import myAPI_keys as Key\n",
    "import db.init_db as init_db\n",
    "\n",
    "\n",
    "\n",
    "init_db.init_entire_database()\n",
    "print(\"Database initilized! load data from API and insert into database...\")\n",
    "\n",
    "\n",
    "conn = sqlite3.connect(\"db/StockManageAPP.sqlite\")\n",
    "\n",
    "cur = conn.cursor()"
   ]
  },
  {
   "cell_type": "markdown",
   "metadata": {},
   "source": [
    "## 1.1. Update [StockInfo] Table"
   ]
  },
  {
   "cell_type": "markdown",
   "metadata": {},
   "source": [
    "### 1.1.1. Defince Function : Get_Stock_Price \n",
    "- 한국증권거래소 API에 종목코드를 파라미터로 이용해, 종목명과 종가 가져옴."
   ]
  },
  {
   "cell_type": "code",
   "execution_count": 2,
   "metadata": {},
   "outputs": [],
   "source": [
    "def Get_Stock_Info():\n",
    "    endpoint = \"http://apis.data.go.kr/1160100/service/GetStockSecuritiesInfoService/getStockPriceInfo\"\n",
    "    url = f\"{endpoint}?pageNo={1}&resultType=json&numOfRows={3000}&serviceKey={Key.STOCK_INFO_ENCODED_KEY}\"\n",
    "    response = requests.get(url).json().get(\"response\").get(\"body\").get(\"items\")\n",
    "    return response"
   ]
  },
  {
   "cell_type": "markdown",
   "metadata": {},
   "source": [
    "### 1.1.2. [StockInfo Table(df)] 초기 형태 제작\n",
    "- 금융결제원 API로 불러온 정보를 마지막 검색일자인 정보만 남김.\n",
    "- 이후 StockInfo의 형태로 df를 제작"
   ]
  },
  {
   "cell_type": "code",
   "execution_count": 3,
   "metadata": {},
   "outputs": [],
   "source": [
    "_ans = Get_Stock_Info()\n",
    "df = pd.DataFrame(_ans.get(\"item\"))[[\"srtnCd\", \"itmsNm\", \"mrktCtg\", \"clpr\", \"basDt\"]]\n",
    "last_date = df[\"basDt\"].max()\n",
    "df = df[df[\"basDt\"] == last_date]\n",
    "########################################################################\n",
    "df = pd.DataFrame(df)[[\"srtnCd\", \"itmsNm\", \"mrktCtg\", \"clpr\"]]\n",
    "df = df.rename(\n",
    "    columns={\n",
    "        \"srtnCd\": \"StockCode\",\n",
    "        \"itmsNm\": \"StockName\",\n",
    "        \"mrktCtg\": \"Category\",\n",
    "        \"clpr\": \"Price\",\n",
    "    }\n",
    ")\n",
    "df = df.drop(df[df['Category'] == 'KONEX'].index)\n"
   ]
  },
  {
   "cell_type": "code",
   "execution_count": 4,
   "metadata": {},
   "outputs": [
    {
     "data": {
      "text/html": [
       "<div>\n",
       "<style scoped>\n",
       "    .dataframe tbody tr th:only-of-type {\n",
       "        vertical-align: middle;\n",
       "    }\n",
       "\n",
       "    .dataframe tbody tr th {\n",
       "        vertical-align: top;\n",
       "    }\n",
       "\n",
       "    .dataframe thead th {\n",
       "        text-align: right;\n",
       "    }\n",
       "</style>\n",
       "<table border=\"1\" class=\"dataframe\">\n",
       "  <thead>\n",
       "    <tr style=\"text-align: right;\">\n",
       "      <th></th>\n",
       "      <th>StockCode</th>\n",
       "      <th>StockName</th>\n",
       "      <th>Category</th>\n",
       "      <th>Price</th>\n",
       "    </tr>\n",
       "  </thead>\n",
       "  <tbody>\n",
       "    <tr>\n",
       "      <th>0</th>\n",
       "      <td>900110</td>\n",
       "      <td>이스트아시아홀딩스</td>\n",
       "      <td>KOSDAQ</td>\n",
       "      <td>122</td>\n",
       "    </tr>\n",
       "    <tr>\n",
       "      <th>1</th>\n",
       "      <td>900270</td>\n",
       "      <td>헝셩그룹</td>\n",
       "      <td>KOSDAQ</td>\n",
       "      <td>221</td>\n",
       "    </tr>\n",
       "    <tr>\n",
       "      <th>2</th>\n",
       "      <td>900260</td>\n",
       "      <td>로스웰</td>\n",
       "      <td>KOSDAQ</td>\n",
       "      <td>740</td>\n",
       "    </tr>\n",
       "    <tr>\n",
       "      <th>3</th>\n",
       "      <td>900290</td>\n",
       "      <td>GRT</td>\n",
       "      <td>KOSDAQ</td>\n",
       "      <td>2745</td>\n",
       "    </tr>\n",
       "    <tr>\n",
       "      <th>4</th>\n",
       "      <td>900300</td>\n",
       "      <td>오가닉티코스메틱</td>\n",
       "      <td>KOSDAQ</td>\n",
       "      <td>136</td>\n",
       "    </tr>\n",
       "    <tr>\n",
       "      <th>...</th>\n",
       "      <td>...</td>\n",
       "      <td>...</td>\n",
       "      <td>...</td>\n",
       "      <td>...</td>\n",
       "    </tr>\n",
       "    <tr>\n",
       "      <th>2771</th>\n",
       "      <td>900120</td>\n",
       "      <td>씨케이에이치</td>\n",
       "      <td>KOSDAQ</td>\n",
       "      <td>113</td>\n",
       "    </tr>\n",
       "    <tr>\n",
       "      <th>2772</th>\n",
       "      <td>900250</td>\n",
       "      <td>크리스탈신소재</td>\n",
       "      <td>KOSDAQ</td>\n",
       "      <td>1712</td>\n",
       "    </tr>\n",
       "    <tr>\n",
       "      <th>2773</th>\n",
       "      <td>900070</td>\n",
       "      <td>글로벌에스엠</td>\n",
       "      <td>KOSDAQ</td>\n",
       "      <td>568</td>\n",
       "    </tr>\n",
       "    <tr>\n",
       "      <th>2774</th>\n",
       "      <td>900140</td>\n",
       "      <td>엘브이엠씨홀딩스</td>\n",
       "      <td>KOSPI</td>\n",
       "      <td>2440</td>\n",
       "    </tr>\n",
       "    <tr>\n",
       "      <th>2775</th>\n",
       "      <td>900100</td>\n",
       "      <td>애머릿지</td>\n",
       "      <td>KOSDAQ</td>\n",
       "      <td>1684</td>\n",
       "    </tr>\n",
       "  </tbody>\n",
       "</table>\n",
       "<p>2647 rows × 4 columns</p>\n",
       "</div>"
      ],
      "text/plain": [
       "     StockCode  StockName Category Price\n",
       "0       900110  이스트아시아홀딩스   KOSDAQ   122\n",
       "1       900270       헝셩그룹   KOSDAQ   221\n",
       "2       900260        로스웰   KOSDAQ   740\n",
       "3       900290        GRT   KOSDAQ  2745\n",
       "4       900300   오가닉티코스메틱   KOSDAQ   136\n",
       "...        ...        ...      ...   ...\n",
       "2771    900120     씨케이에이치   KOSDAQ   113\n",
       "2772    900250    크리스탈신소재   KOSDAQ  1712\n",
       "2773    900070     글로벌에스엠   KOSDAQ   568\n",
       "2774    900140   엘브이엠씨홀딩스    KOSPI  2440\n",
       "2775    900100       애머릿지   KOSDAQ  1684\n",
       "\n",
       "[2647 rows x 4 columns]"
      ]
     },
     "execution_count": 4,
     "metadata": {},
     "output_type": "execute_result"
    }
   ],
   "source": [
    "df"
   ]
  },
  {
   "cell_type": "markdown",
   "metadata": {},
   "source": [
    "### 1.1.2. load category table (in memory)\n",
    "- http://data.krx.co.kr/contents/MDC/MDI/mdiLoader/index.cmd?menuId=MDC0201020502\n",
    "- KRX에서 업종정보 포함한 종합 정보 csv file 다운 후, 메모리에 불러옴\n",
    "- 해당 사이트의 API를 이용하기 위해선, 사업자등록번호가 필요하기 때문에 불가피하게 csv file을 다운받아서 사용함."
   ]
  },
  {
   "cell_type": "code",
   "execution_count": 5,
   "metadata": {},
   "outputs": [],
   "source": [
    "# Load the two CSV files with 'euc-kr' encoding\n",
    "df1 = pd.read_csv(\"db/doc/data_2239_20231121.csv\", encoding=\"euc-kr\")\n",
    "df2 = pd.read_csv(\"db/doc/data_2303_20231121.csv\", encoding=\"euc-kr\")\n",
    "\n",
    "# Concatenate the two DataFrames\n",
    "df3 = pd.concat([df1, df2])\n",
    "\n",
    "# If you want to reset the index\n",
    "krx_sector = df3.reset_index(drop=True)"
   ]
  },
  {
   "cell_type": "code",
   "execution_count": 6,
   "metadata": {},
   "outputs": [
    {
     "data": {
      "text/html": [
       "<div>\n",
       "<style scoped>\n",
       "    .dataframe tbody tr th:only-of-type {\n",
       "        vertical-align: middle;\n",
       "    }\n",
       "\n",
       "    .dataframe tbody tr th {\n",
       "        vertical-align: top;\n",
       "    }\n",
       "\n",
       "    .dataframe thead th {\n",
       "        text-align: right;\n",
       "    }\n",
       "</style>\n",
       "<table border=\"1\" class=\"dataframe\">\n",
       "  <thead>\n",
       "    <tr style=\"text-align: right;\">\n",
       "      <th></th>\n",
       "      <th>종목코드</th>\n",
       "      <th>종목명</th>\n",
       "      <th>시장구분</th>\n",
       "      <th>업종명</th>\n",
       "      <th>종가</th>\n",
       "      <th>대비</th>\n",
       "      <th>등락률</th>\n",
       "      <th>시가총액</th>\n",
       "    </tr>\n",
       "  </thead>\n",
       "  <tbody>\n",
       "    <tr>\n",
       "      <th>0</th>\n",
       "      <td>095570</td>\n",
       "      <td>AJ네트웍스</td>\n",
       "      <td>KOSPI</td>\n",
       "      <td>서비스업</td>\n",
       "      <td>4165</td>\n",
       "      <td>15</td>\n",
       "      <td>0.36</td>\n",
       "      <td>188477741235</td>\n",
       "    </tr>\n",
       "    <tr>\n",
       "      <th>1</th>\n",
       "      <td>006840</td>\n",
       "      <td>AK홀딩스</td>\n",
       "      <td>KOSPI</td>\n",
       "      <td>기타금융</td>\n",
       "      <td>17980</td>\n",
       "      <td>-20</td>\n",
       "      <td>-0.11</td>\n",
       "      <td>238191146780</td>\n",
       "    </tr>\n",
       "    <tr>\n",
       "      <th>2</th>\n",
       "      <td>027410</td>\n",
       "      <td>BGF</td>\n",
       "      <td>KOSPI</td>\n",
       "      <td>기타금융</td>\n",
       "      <td>3570</td>\n",
       "      <td>30</td>\n",
       "      <td>0.85</td>\n",
       "      <td>341708943870</td>\n",
       "    </tr>\n",
       "    <tr>\n",
       "      <th>3</th>\n",
       "      <td>282330</td>\n",
       "      <td>BGF리테일</td>\n",
       "      <td>KOSPI</td>\n",
       "      <td>유통업</td>\n",
       "      <td>135400</td>\n",
       "      <td>1900</td>\n",
       "      <td>1.42</td>\n",
       "      <td>2340240872400</td>\n",
       "    </tr>\n",
       "    <tr>\n",
       "      <th>4</th>\n",
       "      <td>138930</td>\n",
       "      <td>BNK금융지주</td>\n",
       "      <td>KOSPI</td>\n",
       "      <td>기타금융</td>\n",
       "      <td>7100</td>\n",
       "      <td>30</td>\n",
       "      <td>0.42</td>\n",
       "      <td>2286827909800</td>\n",
       "    </tr>\n",
       "    <tr>\n",
       "      <th>...</th>\n",
       "      <td>...</td>\n",
       "      <td>...</td>\n",
       "      <td>...</td>\n",
       "      <td>...</td>\n",
       "      <td>...</td>\n",
       "      <td>...</td>\n",
       "      <td>...</td>\n",
       "      <td>...</td>\n",
       "    </tr>\n",
       "    <tr>\n",
       "      <th>2642</th>\n",
       "      <td>024060</td>\n",
       "      <td>흥구석유</td>\n",
       "      <td>KOSDAQ</td>\n",
       "      <td>유통</td>\n",
       "      <td>8710</td>\n",
       "      <td>340</td>\n",
       "      <td>4.06</td>\n",
       "      <td>130650000000</td>\n",
       "    </tr>\n",
       "    <tr>\n",
       "      <th>2643</th>\n",
       "      <td>010240</td>\n",
       "      <td>흥국</td>\n",
       "      <td>KOSDAQ</td>\n",
       "      <td>기계·장비</td>\n",
       "      <td>5900</td>\n",
       "      <td>50</td>\n",
       "      <td>0.85</td>\n",
       "      <td>72703906400</td>\n",
       "    </tr>\n",
       "    <tr>\n",
       "      <th>2644</th>\n",
       "      <td>189980</td>\n",
       "      <td>흥국에프엔비</td>\n",
       "      <td>KOSDAQ</td>\n",
       "      <td>음식료·담배</td>\n",
       "      <td>2090</td>\n",
       "      <td>40</td>\n",
       "      <td>1.95</td>\n",
       "      <td>83888058430</td>\n",
       "    </tr>\n",
       "    <tr>\n",
       "      <th>2645</th>\n",
       "      <td>037440</td>\n",
       "      <td>희림</td>\n",
       "      <td>KOSDAQ</td>\n",
       "      <td>기타서비스</td>\n",
       "      <td>8280</td>\n",
       "      <td>220</td>\n",
       "      <td>2.73</td>\n",
       "      <td>115278093000</td>\n",
       "    </tr>\n",
       "    <tr>\n",
       "      <th>2646</th>\n",
       "      <td>238490</td>\n",
       "      <td>힘스</td>\n",
       "      <td>KOSDAQ</td>\n",
       "      <td>반도체</td>\n",
       "      <td>6580</td>\n",
       "      <td>100</td>\n",
       "      <td>1.54</td>\n",
       "      <td>74434512880</td>\n",
       "    </tr>\n",
       "  </tbody>\n",
       "</table>\n",
       "<p>2647 rows × 8 columns</p>\n",
       "</div>"
      ],
      "text/plain": [
       "        종목코드      종목명    시장구분     업종명      종가    대비   등락률           시가총액\n",
       "0     095570   AJ네트웍스   KOSPI    서비스업    4165    15  0.36   188477741235\n",
       "1     006840    AK홀딩스   KOSPI    기타금융   17980   -20 -0.11   238191146780\n",
       "2     027410      BGF   KOSPI    기타금융    3570    30  0.85   341708943870\n",
       "3     282330   BGF리테일   KOSPI     유통업  135400  1900  1.42  2340240872400\n",
       "4     138930  BNK금융지주   KOSPI    기타금융    7100    30  0.42  2286827909800\n",
       "...      ...      ...     ...     ...     ...   ...   ...            ...\n",
       "2642  024060     흥구석유  KOSDAQ      유통    8710   340  4.06   130650000000\n",
       "2643  010240       흥국  KOSDAQ   기계·장비    5900    50  0.85    72703906400\n",
       "2644  189980   흥국에프엔비  KOSDAQ  음식료·담배    2090    40  1.95    83888058430\n",
       "2645  037440       희림  KOSDAQ   기타서비스    8280   220  2.73   115278093000\n",
       "2646  238490       힘스  KOSDAQ     반도체    6580   100  1.54    74434512880\n",
       "\n",
       "[2647 rows x 8 columns]"
      ]
     },
     "execution_count": 6,
     "metadata": {},
     "output_type": "execute_result"
    }
   ],
   "source": [
    "krx_sector"
   ]
  },
  {
   "cell_type": "markdown",
   "metadata": {},
   "source": [
    "### 1.1.3. Add Stock{Name, Price} to [StockInfo(df)] by using API"
   ]
  },
  {
   "cell_type": "code",
   "execution_count": 7,
   "metadata": {},
   "outputs": [
    {
     "name": "stderr",
     "output_type": "stream",
     "text": [
      "  0%|          | 0/2647 [00:00<?, ?it/s]"
     ]
    },
    {
     "name": "stderr",
     "output_type": "stream",
     "text": [
      "100%|██████████| 2647/2647 [00:00<00:00, 2966.04it/s]\n"
     ]
    }
   ],
   "source": [
    "for _StockCode in tqdm.tqdm(df[\"StockCode\"].tolist()):\n",
    "    # Find the matching row in krx_sector\n",
    "    matching_sector = krx_sector[krx_sector[\"종목코드\"] == _StockCode][\"업종명\"]\n",
    "    if(len(matching_sector) == 0):\n",
    "        continue\n",
    "    df.loc[df[\"StockCode\"] == _StockCode, \"Category\"] = matching_sector.values[0]"
   ]
  },
  {
   "cell_type": "code",
   "execution_count": 8,
   "metadata": {},
   "outputs": [
    {
     "data": {
      "text/html": [
       "<div>\n",
       "<style scoped>\n",
       "    .dataframe tbody tr th:only-of-type {\n",
       "        vertical-align: middle;\n",
       "    }\n",
       "\n",
       "    .dataframe tbody tr th {\n",
       "        vertical-align: top;\n",
       "    }\n",
       "\n",
       "    .dataframe thead th {\n",
       "        text-align: right;\n",
       "    }\n",
       "</style>\n",
       "<table border=\"1\" class=\"dataframe\">\n",
       "  <thead>\n",
       "    <tr style=\"text-align: right;\">\n",
       "      <th></th>\n",
       "      <th>StockCode</th>\n",
       "      <th>StockName</th>\n",
       "      <th>Category</th>\n",
       "      <th>Price</th>\n",
       "    </tr>\n",
       "  </thead>\n",
       "  <tbody>\n",
       "    <tr>\n",
       "      <th>0</th>\n",
       "      <td>900110</td>\n",
       "      <td>이스트아시아홀딩스</td>\n",
       "      <td>금융</td>\n",
       "      <td>122</td>\n",
       "    </tr>\n",
       "    <tr>\n",
       "      <th>1</th>\n",
       "      <td>900270</td>\n",
       "      <td>헝셩그룹</td>\n",
       "      <td>금융</td>\n",
       "      <td>221</td>\n",
       "    </tr>\n",
       "    <tr>\n",
       "      <th>2</th>\n",
       "      <td>900260</td>\n",
       "      <td>로스웰</td>\n",
       "      <td>금융</td>\n",
       "      <td>740</td>\n",
       "    </tr>\n",
       "    <tr>\n",
       "      <th>3</th>\n",
       "      <td>900290</td>\n",
       "      <td>GRT</td>\n",
       "      <td>금융</td>\n",
       "      <td>2745</td>\n",
       "    </tr>\n",
       "    <tr>\n",
       "      <th>4</th>\n",
       "      <td>900300</td>\n",
       "      <td>오가닉티코스메틱</td>\n",
       "      <td>금융</td>\n",
       "      <td>136</td>\n",
       "    </tr>\n",
       "    <tr>\n",
       "      <th>...</th>\n",
       "      <td>...</td>\n",
       "      <td>...</td>\n",
       "      <td>...</td>\n",
       "      <td>...</td>\n",
       "    </tr>\n",
       "    <tr>\n",
       "      <th>2771</th>\n",
       "      <td>900120</td>\n",
       "      <td>씨케이에이치</td>\n",
       "      <td>금융</td>\n",
       "      <td>113</td>\n",
       "    </tr>\n",
       "    <tr>\n",
       "      <th>2772</th>\n",
       "      <td>900250</td>\n",
       "      <td>크리스탈신소재</td>\n",
       "      <td>금융</td>\n",
       "      <td>1712</td>\n",
       "    </tr>\n",
       "    <tr>\n",
       "      <th>2773</th>\n",
       "      <td>900070</td>\n",
       "      <td>글로벌에스엠</td>\n",
       "      <td>금융</td>\n",
       "      <td>568</td>\n",
       "    </tr>\n",
       "    <tr>\n",
       "      <th>2774</th>\n",
       "      <td>900140</td>\n",
       "      <td>엘브이엠씨홀딩스</td>\n",
       "      <td>유통업</td>\n",
       "      <td>2440</td>\n",
       "    </tr>\n",
       "    <tr>\n",
       "      <th>2775</th>\n",
       "      <td>900100</td>\n",
       "      <td>애머릿지</td>\n",
       "      <td>유통</td>\n",
       "      <td>1684</td>\n",
       "    </tr>\n",
       "  </tbody>\n",
       "</table>\n",
       "<p>2647 rows × 4 columns</p>\n",
       "</div>"
      ],
      "text/plain": [
       "     StockCode  StockName Category Price\n",
       "0       900110  이스트아시아홀딩스       금융   122\n",
       "1       900270       헝셩그룹       금융   221\n",
       "2       900260        로스웰       금융   740\n",
       "3       900290        GRT       금융  2745\n",
       "4       900300   오가닉티코스메틱       금융   136\n",
       "...        ...        ...      ...   ...\n",
       "2771    900120     씨케이에이치       금융   113\n",
       "2772    900250    크리스탈신소재       금융  1712\n",
       "2773    900070     글로벌에스엠       금융   568\n",
       "2774    900140   엘브이엠씨홀딩스      유통업  2440\n",
       "2775    900100       애머릿지       유통  1684\n",
       "\n",
       "[2647 rows x 4 columns]"
      ]
     },
     "execution_count": 8,
     "metadata": {},
     "output_type": "execute_result"
    }
   ],
   "source": [
    "# 2776개에 2647개의 업종명이 매칭되었는데, 나머지 129개는 시장명으로 되어있는 상태. 어떻게 해야할 지 모르겠음.\n",
    "df"
   ]
  },
  {
   "cell_type": "markdown",
   "metadata": {},
   "source": [
    "### 1.1.4. 만든 df Table을 [StockInfo table]에 대입"
   ]
  },
  {
   "cell_type": "code",
   "execution_count": 9,
   "metadata": {},
   "outputs": [],
   "source": [
    "# Iterate over the rows of the DataFrame\n",
    "for index, row in df.iterrows():\n",
    "    # Create the INSERT statement\n",
    "    sql = f\"\"\"\n",
    "    INSERT INTO StockInfo (StockCode, StockName, Price, Category)\n",
    "    VALUES ('{row['StockCode']}', '{row['StockName']}', {row['Price']}, '{row['Category']}')\n",
    "    \"\"\"\n",
    "\n",
    "    # Execute the INSERT statement\n",
    "    cur.execute(sql)\n",
    "\n",
    "# Commit the changes and close the connection\n",
    "conn.commit()"
   ]
  },
  {
   "cell_type": "markdown",
   "metadata": {},
   "source": [
    "## 1.2. Update [UserInfo] Table \n",
    "- Update a [UserInfo].Blance\n",
    "- Update a [UserInfo].FavoriteCategory"
   ]
  },
  {
   "cell_type": "markdown",
   "metadata": {},
   "source": [
    "### 1.2.1 Update [UserInfo].Blance"
   ]
  },
  {
   "cell_type": "code",
   "execution_count": 10,
   "metadata": {},
   "outputs": [],
   "source": [
    "sql = f\"\"\"\n",
    "    SELECT ID, SUM(Count * Price) as TotalValue\n",
    "    FROM (\n",
    "        SELECT IndividualStockAcount.ID, IndividualStockAcount.StockCode, IndividualStockAcount.Count, StockInfo.Price\n",
    "        FROM IndividualStockAcount\n",
    "        JOIN StockInfo ON IndividualStockAcount.StockCode = StockInfo.StockCode\n",
    "    )\n",
    "    GROUP BY ID\n",
    "    \"\"\"\n",
    "\n",
    "df = pd.read_sql_query(sql, conn)"
   ]
  },
  {
   "cell_type": "code",
   "execution_count": 11,
   "metadata": {},
   "outputs": [
    {
     "data": {
      "text/html": [
       "<div>\n",
       "<style scoped>\n",
       "    .dataframe tbody tr th:only-of-type {\n",
       "        vertical-align: middle;\n",
       "    }\n",
       "\n",
       "    .dataframe tbody tr th {\n",
       "        vertical-align: top;\n",
       "    }\n",
       "\n",
       "    .dataframe thead th {\n",
       "        text-align: right;\n",
       "    }\n",
       "</style>\n",
       "<table border=\"1\" class=\"dataframe\">\n",
       "  <thead>\n",
       "    <tr style=\"text-align: right;\">\n",
       "      <th></th>\n",
       "      <th>ID</th>\n",
       "      <th>TotalValue</th>\n",
       "    </tr>\n",
       "  </thead>\n",
       "  <tbody>\n",
       "    <tr>\n",
       "      <th>0</th>\n",
       "      <td>hoho222</td>\n",
       "      <td>875100</td>\n",
       "    </tr>\n",
       "    <tr>\n",
       "      <th>1</th>\n",
       "      <td>hseop884</td>\n",
       "      <td>4167000</td>\n",
       "    </tr>\n",
       "    <tr>\n",
       "      <th>2</th>\n",
       "      <td>jiho264</td>\n",
       "      <td>657000</td>\n",
       "    </tr>\n",
       "    <tr>\n",
       "      <th>3</th>\n",
       "      <td>nick0422</td>\n",
       "      <td>810000</td>\n",
       "    </tr>\n",
       "    <tr>\n",
       "      <th>4</th>\n",
       "      <td>user270</td>\n",
       "      <td>406600</td>\n",
       "    </tr>\n",
       "  </tbody>\n",
       "</table>\n",
       "</div>"
      ],
      "text/plain": [
       "         ID  TotalValue\n",
       "0   hoho222      875100\n",
       "1  hseop884     4167000\n",
       "2   jiho264      657000\n",
       "3  nick0422      810000\n",
       "4   user270      406600"
      ]
     },
     "execution_count": 11,
     "metadata": {},
     "output_type": "execute_result"
    }
   ],
   "source": [
    "df"
   ]
  },
  {
   "cell_type": "code",
   "execution_count": 12,
   "metadata": {},
   "outputs": [],
   "source": [
    "# Write the DataFrame to a temporary table in the SQLite database\n",
    "df.to_sql(\"temp\", conn, if_exists=\"replace\", index=False)\n",
    "\n",
    "# Update the UserInfo table based on the temporary table\n",
    "cur.execute(\n",
    "    \"\"\"\n",
    "    UPDATE UserInfo\n",
    "    SET Balance = (\n",
    "        SELECT TotalValue\n",
    "        FROM temp\n",
    "        WHERE temp.ID = UserInfo.ID\n",
    "    )\n",
    "    WHERE EXISTS (\n",
    "        SELECT 1\n",
    "        FROM temp\n",
    "        WHERE temp.ID = UserInfo.ID\n",
    "    )\n",
    "\"\"\"\n",
    ")\n",
    "cur.execute(\"DROP TABLE IF EXISTS temp\")  \n",
    "\n",
    "conn.commit()"
   ]
  },
  {
   "cell_type": "markdown",
   "metadata": {},
   "source": [
    "### 1.2.2. [IndividualStockAccount].TotalPrice"
   ]
  },
  {
   "cell_type": "code",
   "execution_count": 13,
   "metadata": {},
   "outputs": [],
   "source": [
    "sql = f\"\"\"\n",
    "    SELECT IndividualStockAcount.ID, IndividualStockAcount.StockCode, IndividualStockAcount.Count, StockInfo.Price\n",
    "    FROM IndividualStockAcount\n",
    "    JOIN StockInfo ON IndividualStockAcount.StockCode = StockInfo.StockCode\n",
    "    \"\"\"\n",
    "\n",
    "df = pd.read_sql_query(sql, conn)"
   ]
  },
  {
   "cell_type": "code",
   "execution_count": 14,
   "metadata": {},
   "outputs": [
    {
     "data": {
      "text/html": [
       "<div>\n",
       "<style scoped>\n",
       "    .dataframe tbody tr th:only-of-type {\n",
       "        vertical-align: middle;\n",
       "    }\n",
       "\n",
       "    .dataframe tbody tr th {\n",
       "        vertical-align: top;\n",
       "    }\n",
       "\n",
       "    .dataframe thead th {\n",
       "        text-align: right;\n",
       "    }\n",
       "</style>\n",
       "<table border=\"1\" class=\"dataframe\">\n",
       "  <thead>\n",
       "    <tr style=\"text-align: right;\">\n",
       "      <th></th>\n",
       "      <th>ID</th>\n",
       "      <th>StockCode</th>\n",
       "      <th>Count</th>\n",
       "      <th>Price</th>\n",
       "    </tr>\n",
       "  </thead>\n",
       "  <tbody>\n",
       "    <tr>\n",
       "      <th>0</th>\n",
       "      <td>hoho222</td>\n",
       "      <td>005930</td>\n",
       "      <td>3</td>\n",
       "      <td>72700</td>\n",
       "    </tr>\n",
       "    <tr>\n",
       "      <th>1</th>\n",
       "      <td>nick0422</td>\n",
       "      <td>035420</td>\n",
       "      <td>4</td>\n",
       "      <td>202500</td>\n",
       "    </tr>\n",
       "    <tr>\n",
       "      <th>2</th>\n",
       "      <td>jiho264</td>\n",
       "      <td>000660</td>\n",
       "      <td>5</td>\n",
       "      <td>131400</td>\n",
       "    </tr>\n",
       "    <tr>\n",
       "      <th>3</th>\n",
       "      <td>hoho222</td>\n",
       "      <td>000660</td>\n",
       "      <td>5</td>\n",
       "      <td>131400</td>\n",
       "    </tr>\n",
       "    <tr>\n",
       "      <th>4</th>\n",
       "      <td>user270</td>\n",
       "      <td>000660</td>\n",
       "      <td>1</td>\n",
       "      <td>131400</td>\n",
       "    </tr>\n",
       "    <tr>\n",
       "      <th>5</th>\n",
       "      <td>user270</td>\n",
       "      <td>005930</td>\n",
       "      <td>1</td>\n",
       "      <td>72700</td>\n",
       "    </tr>\n",
       "    <tr>\n",
       "      <th>6</th>\n",
       "      <td>user270</td>\n",
       "      <td>035420</td>\n",
       "      <td>1</td>\n",
       "      <td>202500</td>\n",
       "    </tr>\n",
       "    <tr>\n",
       "      <th>7</th>\n",
       "      <td>hseop884</td>\n",
       "      <td>086520</td>\n",
       "      <td>4</td>\n",
       "      <td>728000</td>\n",
       "    </tr>\n",
       "    <tr>\n",
       "      <th>8</th>\n",
       "      <td>hseop884</td>\n",
       "      <td>247540</td>\n",
       "      <td>5</td>\n",
       "      <td>251000</td>\n",
       "    </tr>\n",
       "  </tbody>\n",
       "</table>\n",
       "</div>"
      ],
      "text/plain": [
       "         ID StockCode  Count   Price\n",
       "0   hoho222    005930      3   72700\n",
       "1  nick0422    035420      4  202500\n",
       "2   jiho264    000660      5  131400\n",
       "3   hoho222    000660      5  131400\n",
       "4   user270    000660      1  131400\n",
       "5   user270    005930      1   72700\n",
       "6   user270    035420      1  202500\n",
       "7  hseop884    086520      4  728000\n",
       "8  hseop884    247540      5  251000"
      ]
     },
     "execution_count": 14,
     "metadata": {},
     "output_type": "execute_result"
    }
   ],
   "source": [
    "df"
   ]
  },
  {
   "cell_type": "code",
   "execution_count": 15,
   "metadata": {},
   "outputs": [],
   "source": [
    "# Write the DataFrame to a temporary table in the SQLite database\n",
    "df.to_sql(\"temp\", conn, if_exists=\"replace\", index=False)\n",
    "\n",
    "# Update the individualstockaccount table based on the temporary table\n",
    "cur.execute(\n",
    "    \"\"\"\n",
    "    UPDATE IndividualStockAcount\n",
    "    SET TotalPrice = (\n",
    "        SELECT Count * Price\n",
    "        FROM temp\n",
    "        WHERE temp.ID = IndividualStockAcount.ID AND temp.StockCode = IndividualStockAcount.StockCode\n",
    "    )\n",
    "    WHERE EXISTS (\n",
    "        SELECT 1\n",
    "        FROM temp\n",
    "        WHERE temp.ID = IndividualStockAcount.ID AND temp.StockCode = IndividualStockAcount.StockCode\n",
    "    )\n",
    "\"\"\"\n",
    ")\n",
    "cur.execute(\"DROP TABLE IF EXISTS temp\")\n",
    "conn.commit()"
   ]
  },
  {
   "cell_type": "markdown",
   "metadata": {},
   "source": [
    "### 1.2.3. Update the [UserInfo].FavCategory column\n",
    "- 각 Id마다의 Category별 TotalPrice합계를 구하고, 가장 큰 Category를 FavoriteCategory로 지정"
   ]
  },
  {
   "cell_type": "code",
   "execution_count": 16,
   "metadata": {},
   "outputs": [],
   "source": [
    "# Get the category with the highest sum of TotalPrice for each ID\n",
    "sql = \"\"\"\n",
    "SELECT IndividualStockAcount.ID, StockInfo.Category, SUM(IndividualStockAcount.TotalPrice) as Total\n",
    "FROM UserInfo\n",
    "LEFT JOIN IndividualStockAcount ON UserInfo.ID = IndividualStockAcount.ID\n",
    "LEFT JOIN StockInfo ON IndividualStockAcount.StockCode = StockInfo.StockCode\n",
    "GROUP BY IndividualStockAcount.ID, StockInfo.Category\n",
    "\"\"\"\n",
    "\n",
    "df = pd.read_sql_query(sql, conn)\n",
    "\n",
    "# Find the category with the highest sum of TotalPrice for each ID\n",
    "df = df.loc[df.groupby(\"ID\")[\"Total\"].idxmax()]\n",
    "\n",
    "# Update the UserInfo table with the FavCategory\n",
    "for index, row in df.iterrows():\n",
    "    sql = f\"\"\"\n",
    "    UPDATE UserInfo\n",
    "    SET FavCategory = '{row['Category']}' \n",
    "    WHERE ID = '{row['ID']}'\n",
    "    \"\"\"\n",
    "    cur.execute(sql)\n",
    "\n",
    "conn.commit()"
   ]
  },
  {
   "cell_type": "code",
   "execution_count": 17,
   "metadata": {},
   "outputs": [
    {
     "data": {
      "text/html": [
       "<div>\n",
       "<style scoped>\n",
       "    .dataframe tbody tr th:only-of-type {\n",
       "        vertical-align: middle;\n",
       "    }\n",
       "\n",
       "    .dataframe tbody tr th {\n",
       "        vertical-align: top;\n",
       "    }\n",
       "\n",
       "    .dataframe thead th {\n",
       "        text-align: right;\n",
       "    }\n",
       "</style>\n",
       "<table border=\"1\" class=\"dataframe\">\n",
       "  <thead>\n",
       "    <tr style=\"text-align: right;\">\n",
       "      <th></th>\n",
       "      <th>ID</th>\n",
       "      <th>Category</th>\n",
       "      <th>Total</th>\n",
       "    </tr>\n",
       "  </thead>\n",
       "  <tbody>\n",
       "    <tr>\n",
       "      <th>0</th>\n",
       "      <td>hoho222</td>\n",
       "      <td>전기전자</td>\n",
       "      <td>875100</td>\n",
       "    </tr>\n",
       "    <tr>\n",
       "      <th>1</th>\n",
       "      <td>hseop884</td>\n",
       "      <td>금융</td>\n",
       "      <td>2912000</td>\n",
       "    </tr>\n",
       "    <tr>\n",
       "      <th>3</th>\n",
       "      <td>jiho264</td>\n",
       "      <td>전기전자</td>\n",
       "      <td>657000</td>\n",
       "    </tr>\n",
       "    <tr>\n",
       "      <th>4</th>\n",
       "      <td>nick0422</td>\n",
       "      <td>서비스업</td>\n",
       "      <td>810000</td>\n",
       "    </tr>\n",
       "    <tr>\n",
       "      <th>6</th>\n",
       "      <td>user270</td>\n",
       "      <td>전기전자</td>\n",
       "      <td>204100</td>\n",
       "    </tr>\n",
       "  </tbody>\n",
       "</table>\n",
       "</div>"
      ],
      "text/plain": [
       "         ID Category    Total\n",
       "0   hoho222     전기전자   875100\n",
       "1  hseop884       금융  2912000\n",
       "3   jiho264     전기전자   657000\n",
       "4  nick0422     서비스업   810000\n",
       "6   user270     전기전자   204100"
      ]
     },
     "execution_count": 17,
     "metadata": {},
     "output_type": "execute_result"
    }
   ],
   "source": [
    "df"
   ]
  },
  {
   "cell_type": "markdown",
   "metadata": {},
   "source": [
    "## 1.3. Update [IndividualStockAccount] Table"
   ]
  },
  {
   "cell_type": "code",
   "execution_count": 18,
   "metadata": {},
   "outputs": [],
   "source": [
    "# Update the IndividualStockAcount table with the StockName based on the StockCode\n",
    "cur.execute(\"\"\"\n",
    "UPDATE IndividualStockAcount\n",
    "SET StockName = (\n",
    "    SELECT StockName\n",
    "    FROM StockInfo\n",
    "    WHERE StockInfo.StockCode = IndividualStockAcount.StockCode\n",
    ")\n",
    "\"\"\")\n",
    "\n",
    "# Commit the changes\n",
    "conn.commit()\n"
   ]
  },
  {
   "cell_type": "markdown",
   "metadata": {},
   "source": [
    "# 2. APP Running"
   ]
  },
  {
   "cell_type": "markdown",
   "metadata": {},
   "source": [
    "## 2.1. Login"
   ]
  },
  {
   "cell_type": "code",
   "execution_count": 72,
   "metadata": {},
   "outputs": [
    {
     "name": "stdout",
     "output_type": "stream",
     "text": [
      "Hello, user270!\n"
     ]
    }
   ],
   "source": [
    "_user_ID = \"user270\"\n",
    "_user_PW = \"admin\"\n",
    "\n",
    "sql = f\"\"\"\n",
    "SELECT *\n",
    "FROM UserInfo\n",
    "WHERE ID = '{_user_ID}' AND PW = '{_user_PW}'\n",
    "\"\"\"\n",
    "\n",
    "result = pd.read_sql_query(sql, conn)\n",
    "\n",
    "if result.empty:\n",
    "    print(\"ID or PW is wrong!\")\n",
    "else:\n",
    "    print(\"Hello, \" + _user_ID + \"!\")"
   ]
  },
  {
   "cell_type": "markdown",
   "metadata": {},
   "source": [
    "## 2.2. Statistics of StockInfo about MyPage"
   ]
  },
  {
   "cell_type": "code",
   "execution_count": 85,
   "metadata": {},
   "outputs": [],
   "source": [
    "def Circle_Plot(df, col, label, title):\n",
    "    # Sum the data for the same category\n",
    "    df_sum = df.groupby(label)[col].sum().reset_index()\n",
    "    df_sum.sort_values(by=[col], ascending=False, inplace=True)\n",
    "\n",
    "    # Create a figure and axis\n",
    "    fig, ax = plt.subplots()\n",
    "\n",
    "    # Plot the circle plot\n",
    "    wedges, texts, autotexts = ax.pie(\n",
    "        df_sum[col], labels=df_sum[label], autopct=\"%1.1f%%\"\n",
    "    )\n",
    "\n",
    "    # Add the TotalPrice near the label\n",
    "    for i, text in enumerate(texts):\n",
    "        text.set_text(f\"{df_sum[label][i]}\\n({df_sum[col][i]:,.0f} won)\")\n",
    "\n",
    "    # Set the aspect ratio to be equal so that the pie is drawn as a circle\n",
    "    ax.set_aspect(\"equal\")\n",
    "\n",
    "    # Set the title of the plot\n",
    "    ax.set_title(title)\n",
    "    # Show the plot\n",
    "    plt.show()"
   ]
  },
  {
   "cell_type": "code",
   "execution_count": 86,
   "metadata": {},
   "outputs": [
    {
     "data": {
      "text/html": [
       "<div>\n",
       "<style scoped>\n",
       "    .dataframe tbody tr th:only-of-type {\n",
       "        vertical-align: middle;\n",
       "    }\n",
       "\n",
       "    .dataframe tbody tr th {\n",
       "        vertical-align: top;\n",
       "    }\n",
       "\n",
       "    .dataframe thead th {\n",
       "        text-align: right;\n",
       "    }\n",
       "</style>\n",
       "<table border=\"1\" class=\"dataframe\">\n",
       "  <thead>\n",
       "    <tr style=\"text-align: right;\">\n",
       "      <th></th>\n",
       "      <th>ID</th>\n",
       "      <th>StockCode</th>\n",
       "      <th>StockName</th>\n",
       "      <th>Count</th>\n",
       "      <th>TotalPrice</th>\n",
       "    </tr>\n",
       "  </thead>\n",
       "  <tbody>\n",
       "    <tr>\n",
       "      <th>0</th>\n",
       "      <td>user270</td>\n",
       "      <td>000660</td>\n",
       "      <td>SK하이닉스</td>\n",
       "      <td>1</td>\n",
       "      <td>131400</td>\n",
       "    </tr>\n",
       "    <tr>\n",
       "      <th>1</th>\n",
       "      <td>user270</td>\n",
       "      <td>005930</td>\n",
       "      <td>삼성전자</td>\n",
       "      <td>1</td>\n",
       "      <td>72700</td>\n",
       "    </tr>\n",
       "    <tr>\n",
       "      <th>2</th>\n",
       "      <td>user270</td>\n",
       "      <td>035420</td>\n",
       "      <td>NAVER</td>\n",
       "      <td>1</td>\n",
       "      <td>202500</td>\n",
       "    </tr>\n",
       "  </tbody>\n",
       "</table>\n",
       "</div>"
      ],
      "text/plain": [
       "        ID StockCode StockName  Count  TotalPrice\n",
       "0  user270    000660    SK하이닉스      1      131400\n",
       "1  user270    005930      삼성전자      1       72700\n",
       "2  user270    035420     NAVER      1      202500"
      ]
     },
     "execution_count": 86,
     "metadata": {},
     "output_type": "execute_result"
    }
   ],
   "source": [
    "import pandas as pd\n",
    "\n",
    "sql = f\"\"\"\n",
    "SELECT *\n",
    "FROM IndividualStockAcount\n",
    "WHERE ID = '{_user_ID}'\n",
    "\"\"\"\n",
    "\n",
    "_my_stocks = pd.read_sql_query(sql, conn)\n",
    "_my_stocks\n"
   ]
  },
  {
   "cell_type": "code",
   "execution_count": 87,
   "metadata": {},
   "outputs": [
    {
     "name": "stdout",
     "output_type": "stream",
     "text": [
      "user all balance: 522244 won\n",
      "user balance: 406600 won\n",
      "user deposit: 115644 won\n"
     ]
    }
   ],
   "source": [
    "sql = f\"\"\"\n",
    "SELECT Balance, Deposit\n",
    "FROM UserInfo\n",
    "WHERE ID = '{_user_ID}'\n",
    "\"\"\"\n",
    "\n",
    "_my_acount = pd.read_sql_query(sql, conn)\n",
    "print(\"user all balance: \" + str(sum(_my_acount.values[0])) + \" won\")\n",
    "print(\"user balance: \" + str(_my_acount.values[0][0]) + \" won\")\n",
    "print(\"user deposit: \" + str(_my_acount.values[0][1]) + \" won\")"
   ]
  },
  {
   "cell_type": "code",
   "execution_count": 88,
   "metadata": {},
   "outputs": [
    {
     "data": {
      "text/html": [
       "<div>\n",
       "<style scoped>\n",
       "    .dataframe tbody tr th:only-of-type {\n",
       "        vertical-align: middle;\n",
       "    }\n",
       "\n",
       "    .dataframe tbody tr th {\n",
       "        vertical-align: top;\n",
       "    }\n",
       "\n",
       "    .dataframe thead th {\n",
       "        text-align: right;\n",
       "    }\n",
       "</style>\n",
       "<table border=\"1\" class=\"dataframe\">\n",
       "  <thead>\n",
       "    <tr style=\"text-align: right;\">\n",
       "      <th></th>\n",
       "      <th>ID</th>\n",
       "      <th>StockCode</th>\n",
       "      <th>StockName</th>\n",
       "      <th>Count</th>\n",
       "      <th>TotalPrice</th>\n",
       "    </tr>\n",
       "  </thead>\n",
       "  <tbody>\n",
       "    <tr>\n",
       "      <th>0</th>\n",
       "      <td>user270</td>\n",
       "      <td>000660</td>\n",
       "      <td>SK하이닉스</td>\n",
       "      <td>1</td>\n",
       "      <td>131400</td>\n",
       "    </tr>\n",
       "    <tr>\n",
       "      <th>1</th>\n",
       "      <td>user270</td>\n",
       "      <td>005930</td>\n",
       "      <td>삼성전자</td>\n",
       "      <td>1</td>\n",
       "      <td>72700</td>\n",
       "    </tr>\n",
       "    <tr>\n",
       "      <th>2</th>\n",
       "      <td>user270</td>\n",
       "      <td>035420</td>\n",
       "      <td>NAVER</td>\n",
       "      <td>1</td>\n",
       "      <td>202500</td>\n",
       "    </tr>\n",
       "    <tr>\n",
       "      <th>3</th>\n",
       "      <td>user270</td>\n",
       "      <td>000000</td>\n",
       "      <td>Deposit</td>\n",
       "      <td>1</td>\n",
       "      <td>115644</td>\n",
       "    </tr>\n",
       "  </tbody>\n",
       "</table>\n",
       "</div>"
      ],
      "text/plain": [
       "        ID StockCode StockName  Count  TotalPrice\n",
       "0  user270    000660    SK하이닉스      1      131400\n",
       "1  user270    005930      삼성전자      1       72700\n",
       "2  user270    035420     NAVER      1      202500\n",
       "3  user270    000000   Deposit      1      115644"
      ]
     },
     "execution_count": 88,
     "metadata": {},
     "output_type": "execute_result"
    }
   ],
   "source": [
    "if \"000000\" not in _my_stocks[\"StockCode\"].values:\n",
    "    new_row = {\n",
    "        \"ID\": \"user270\",\n",
    "        \"StockCode\": \"000000\",\n",
    "        \"StockName\": \"Deposit\",\n",
    "        \"Count\": 1,\n",
    "        \"TotalPrice\": _my_acount.values[0][1],\n",
    "    }\n",
    "    _my_stocks = pd.concat([_my_stocks, pd.DataFrame([new_row])], ignore_index=True)\n",
    "\n",
    "\n",
    "_my_stocks"
   ]
  },
  {
   "cell_type": "code",
   "execution_count": 89,
   "metadata": {},
   "outputs": [
    {
     "data": {
      "image/png": "[encoded data removed]",
      "text/plain": [
       "<Figure size 640x480 with 1 Axes>"
      ]
     },
     "metadata": {},
     "output_type": "display_data"
    }
   ],
   "source": [
    "Circle_Plot(_my_stocks, \"TotalPrice\", \"StockName\", \"My Balance\")"
   ]
  },
  {
   "cell_type": "markdown",
   "metadata": {},
   "source": [
    "## 2.3. Statistics of StockInfo about All Users\n",
    "- 전체 증권사 회원들의 투자분표를 시각화해, 시장에 대한 개인의 대응을 보여줌"
   ]
  },
  {
   "cell_type": "code",
   "execution_count": 92,
   "metadata": {},
   "outputs": [
    {
     "data": {
      "text/html": [
       "<div>\n",
       "<style scoped>\n",
       "    .dataframe tbody tr th:only-of-type {\n",
       "        vertical-align: middle;\n",
       "    }\n",
       "\n",
       "    .dataframe tbody tr th {\n",
       "        vertical-align: top;\n",
       "    }\n",
       "\n",
       "    .dataframe thead th {\n",
       "        text-align: right;\n",
       "    }\n",
       "</style>\n",
       "<table border=\"1\" class=\"dataframe\">\n",
       "  <thead>\n",
       "    <tr style=\"text-align: right;\">\n",
       "      <th></th>\n",
       "      <th>Category</th>\n",
       "      <th>StockName</th>\n",
       "      <th>TotalCount</th>\n",
       "      <th>TotalPrice</th>\n",
       "    </tr>\n",
       "  </thead>\n",
       "  <tbody>\n",
       "    <tr>\n",
       "      <th>0</th>\n",
       "      <td>금융</td>\n",
       "      <td>에코프로</td>\n",
       "      <td>4</td>\n",
       "      <td>2912000</td>\n",
       "    </tr>\n",
       "    <tr>\n",
       "      <th>1</th>\n",
       "      <td>서비스업</td>\n",
       "      <td>NAVER</td>\n",
       "      <td>5</td>\n",
       "      <td>1012500</td>\n",
       "    </tr>\n",
       "    <tr>\n",
       "      <th>2</th>\n",
       "      <td>일반전기전자</td>\n",
       "      <td>에코프로비엠</td>\n",
       "      <td>5</td>\n",
       "      <td>1255000</td>\n",
       "    </tr>\n",
       "    <tr>\n",
       "      <th>3</th>\n",
       "      <td>전기전자</td>\n",
       "      <td>SK하이닉스</td>\n",
       "      <td>11</td>\n",
       "      <td>1445400</td>\n",
       "    </tr>\n",
       "    <tr>\n",
       "      <th>4</th>\n",
       "      <td>전기전자</td>\n",
       "      <td>삼성전자</td>\n",
       "      <td>4</td>\n",
       "      <td>290800</td>\n",
       "    </tr>\n",
       "  </tbody>\n",
       "</table>\n",
       "</div>"
      ],
      "text/plain": [
       "  Category StockName  TotalCount  TotalPrice\n",
       "0       금융      에코프로           4     2912000\n",
       "1     서비스업     NAVER           5     1012500\n",
       "2   일반전기전자    에코프로비엠           5     1255000\n",
       "3     전기전자    SK하이닉스          11     1445400\n",
       "4     전기전자      삼성전자           4      290800"
      ]
     },
     "execution_count": 92,
     "metadata": {},
     "output_type": "execute_result"
    }
   ],
   "source": [
    "sql = \"\"\"\n",
    "SELECT StockInfo.Category, IndividualStockAcount.StockName, SUM(IndividualStockAcount.Count) as TotalCount, SUM(IndividualStockAcount.TotalPrice) as TotalPrice\n",
    "FROM IndividualStockAcount\n",
    "JOIN StockInfo ON IndividualStockAcount.StockCode = StockInfo.StockCode\n",
    "GROUP BY StockInfo.Category, IndividualStockAcount.StockName\n",
    "\"\"\"\n",
    "\n",
    "result = pd.read_sql_query(sql, conn)\n",
    "result"
   ]
  },
  {
   "cell_type": "code",
   "execution_count": 94,
   "metadata": {},
   "outputs": [
    {
     "data": {
      "image/png": "[encoded data removed]",
      "text/plain": [
       "<Figure size 640x480 with 1 Axes>"
      ]
     },
     "metadata": {},
     "output_type": "display_data"
    },
    {
     "data": {
      "image/png": "[encoded data removed]",
      "text/plain": [
       "<Figure size 640x480 with 1 Axes>"
      ]
     },
     "metadata": {},
     "output_type": "display_data"
    }
   ],
   "source": [
    "Circle_Plot(result, \"TotalPrice\", \"Category\", \"Total Price by Category about all users\")\n",
    "Circle_Plot(result, \"TotalPrice\", \"StockName\", \"Total Price by StockName about all users\")"
   ]
  },
  {
   "cell_type": "markdown",
   "metadata": {},
   "source": [
    "## 2.4. The stock which the USER do not bought in same category"
   ]
  },
  {
   "cell_type": "code",
   "execution_count": 98,
   "metadata": {},
   "outputs": [
    {
     "name": "stdout",
     "output_type": "stream",
     "text": [
      "me is : user270\n"
     ]
    },
    {
     "data": {
      "text/html": [
       "<div>\n",
       "<style scoped>\n",
       "    .dataframe tbody tr th:only-of-type {\n",
       "        vertical-align: middle;\n",
       "    }\n",
       "\n",
       "    .dataframe tbody tr th {\n",
       "        vertical-align: top;\n",
       "    }\n",
       "\n",
       "    .dataframe thead th {\n",
       "        text-align: right;\n",
       "    }\n",
       "</style>\n",
       "<table border=\"1\" class=\"dataframe\">\n",
       "  <thead>\n",
       "    <tr style=\"text-align: right;\">\n",
       "      <th></th>\n",
       "      <th>ID</th>\n",
       "    </tr>\n",
       "  </thead>\n",
       "  <tbody>\n",
       "    <tr>\n",
       "      <th>0</th>\n",
       "      <td>hoho222</td>\n",
       "    </tr>\n",
       "    <tr>\n",
       "      <th>1</th>\n",
       "      <td>jiho264</td>\n",
       "    </tr>\n",
       "  </tbody>\n",
       "</table>\n",
       "</div>"
      ],
      "text/plain": [
       "        ID\n",
       "0  hoho222\n",
       "1  jiho264"
      ]
     },
     "execution_count": 98,
     "metadata": {},
     "output_type": "execute_result"
    }
   ],
   "source": [
    "sql = f\"\"\"\n",
    "SELECT ID\n",
    "FROM UserInfo\n",
    "WHERE FavCategory = (\n",
    "    SELECT FavCategory\n",
    "    FROM UserInfo\n",
    "    WHERE ID = '{_user_ID}'\n",
    ")\n",
    "AND ID != '{_user_ID}'\n",
    "\"\"\"\n",
    "\n",
    "print(\"me is : \" + _user_ID)\n",
    "other_users = pd.read_sql_query(sql, conn)\n",
    "other_users\n"
   ]
  },
  {
   "cell_type": "code",
   "execution_count": 100,
   "metadata": {},
   "outputs": [
    {
     "data": {
      "text/html": [
       "<div>\n",
       "<style scoped>\n",
       "    .dataframe tbody tr th:only-of-type {\n",
       "        vertical-align: middle;\n",
       "    }\n",
       "\n",
       "    .dataframe tbody tr th {\n",
       "        vertical-align: top;\n",
       "    }\n",
       "\n",
       "    .dataframe thead th {\n",
       "        text-align: right;\n",
       "    }\n",
       "</style>\n",
       "<table border=\"1\" class=\"dataframe\">\n",
       "  <thead>\n",
       "    <tr style=\"text-align: right;\">\n",
       "      <th></th>\n",
       "      <th>StockName</th>\n",
       "    </tr>\n",
       "  </thead>\n",
       "  <tbody>\n",
       "  </tbody>\n",
       "</table>\n",
       "</div>"
      ],
      "text/plain": [
       "Empty DataFrame\n",
       "Columns: [StockName]\n",
       "Index: []"
      ]
     },
     "execution_count": 100,
     "metadata": {},
     "output_type": "execute_result"
    }
   ],
   "source": [
    "sql = f\"\"\"\n",
    "SELECT StockInfo.StockName\n",
    "FROM StockInfo\n",
    "WHERE StockInfo.Category = (\n",
    "    SELECT FavCategory\n",
    "    FROM UserInfo\n",
    "    WHERE ID = '{_user_ID}'\n",
    ")\n",
    "AND StockInfo.StockCode NOT IN (\n",
    "    SELECT StockCode\n",
    "    FROM IndividualStockAcount\n",
    "    WHERE ID = '{_user_ID}'\n",
    ")\n",
    "AND StockInfo.StockCode IN (\n",
    "    SELECT StockCode\n",
    "    FROM IndividualStockAcount\n",
    "    WHERE ID IN (\n",
    "        SELECT ID\n",
    "        FROM UserInfo\n",
    "        WHERE FavCategory = (\n",
    "            SELECT FavCategory\n",
    "            FROM UserInfo\n",
    "            WHERE ID = '{_user_ID}'\n",
    "        )\n",
    "        AND ID != '{_user_ID}'\n",
    "    )\n",
    ")\n",
    "\"\"\"\n",
    "\n",
    "result = pd.read_sql_query(sql, conn)\n",
    "result\n"
   ]
  },
  {
   "cell_type": "markdown",
   "metadata": {},
   "source": [
    "# 999. Todo\n",
    "- 동일 관심종목인 사람들과 비교해 본인이 구매하지 않은 종목은 무엇인지?\n",
    "\n",
    "- 국민연금공단의 포트폴리오를 시각화하며, 본인과 얼마나 다른지 비교함\n",
    "\n",
    "- 간략한 투자정보\n",
    "-- 해외 뉴스, 환율 등 "
   ]
  },
  {
   "cell_type": "markdown",
   "metadata": {},
   "source": []
  }
 ],
 "metadata": {
  "kernelspec": {
   "display_name": "Python 3",
   "language": "python",
   "name": "python3"
  },
  "language_info": {
   "codemirror_mode": {
    "name": "ipython",
    "version": 3
   },
   "file_extension": ".py",
   "mimetype": "text/x-python",
   "name": "python",
   "nbconvert_exporter": "python",
   "pygments_lexer": "ipython3",
   "version": "3.12.0"
  }
 },
 "nbformat": 4,
 "nbformat_minor": 2
}
