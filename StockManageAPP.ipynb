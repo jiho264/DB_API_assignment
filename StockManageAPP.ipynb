{
 "cells": [
  {
   "cell_type": "markdown",
   "metadata": {},
   "source": [
    "# 0. Open Database"
   ]
  },
  {
   "cell_type": "code",
   "execution_count": 1,
   "metadata": {},
   "outputs": [
    {
     "name": "stdout",
     "output_type": "stream",
     "text": [
      "Database initilized! load data from API and insert into database...\n"
     ]
    },
    {
     "name": "stderr",
     "output_type": "stream",
     "text": [
      "/Users/jiho/Desktop/DB_API_assignment/init_db.py:55: FutureWarning: Series.__getitem__ treating keys as positions is deprecated. In a future version, integer keys will always be treated as labels (consistent with DataFrame behavior). To access a value by position, use `ser.iloc[pos]`\n",
      "  row[1] = str(row[1]).zfill(6)\n",
      "/Users/jiho/Desktop/DB_API_assignment/init_db.py:55: FutureWarning: Series.__setitem__ treating keys as positions is deprecated. In a future version, integer keys will always be treated as labels (consistent with DataFrame behavior). To set a value by position, use `ser.iloc[pos] = value`\n",
      "  row[1] = str(row[1]).zfill(6)\n"
     ]
    }
   ],
   "source": [
    "import requests\n",
    "import pandas as pd\n",
    "import sqlite3\n",
    "import tqdm\n",
    "import requests as rq\n",
    "from bs4 import BeautifulSoup\n",
    "from io import BytesIO\n",
    "import re\n",
    "\n",
    "import myAPI_keys as Key\n",
    "import init_db\n",
    "\n",
    "init_db.init_entire_database()\n",
    "print(\"Database initilized! load data from API and insert into database...\")\n",
    "\n",
    "\n",
    "conn = sqlite3.connect(\"db/StockManageAPP.sqlite\")\n",
    "\n",
    "cur = conn.cursor()"
   ]
  },
  {
   "cell_type": "markdown",
   "metadata": {},
   "source": [
    "# 1. APP Loading"
   ]
  },
  {
   "cell_type": "markdown",
   "metadata": {},
   "source": [
    "## 1.1.1. Update [StockInfo] Table"
   ]
  },
  {
   "cell_type": "markdown",
   "metadata": {},
   "source": [
    "## 1.1.1. Defince Function : Get_Stock_Price \n",
    "- 한국증권거래소 API에 종목코드를 파라미터로 이용해, 종목명과 종가 가져옴."
   ]
  },
  {
   "cell_type": "code",
   "execution_count": 2,
   "metadata": {},
   "outputs": [],
   "source": [
    "def Get_Stock_Price(_code):\n",
    "    endpoint = \"http://apis.data.go.kr/1160100/service/GetStockSecuritiesInfoService/getStockPriceInfo\"\n",
    "    url = f\"{endpoint}?pageNo={1}&resultType=json&numOfRows={1}&serviceKey={Key.STOCK_INFO_ENCODED_KEY}&likeSrtnCd={_code}\"\n",
    "    response = (\n",
    "        requests.get(url).json().get(\"response\").get(\"body\").get(\"items\").get(\"item\")[0]\n",
    "    )\n",
    "    return response"
   ]
  },
  {
   "cell_type": "markdown",
   "metadata": {},
   "source": [
    "## 1.1.2. Add IndividualStockAcount.StockCode to [StockInfo Table(df)]\n",
    "- individual stock info table에서 stock code들을 모두 stock info에 적어야함"
   ]
  },
  {
   "cell_type": "code",
   "execution_count": 3,
   "metadata": {},
   "outputs": [],
   "source": [
    "# _tmp = cur.execute(\"SELECT DISTINCT StockCode FROM IndividualStockAcount\")\n",
    "df = pd.read_sql_query(\"SELECT DISTINCT StockCode FROM IndividualStockAcount\", conn)\n",
    "df[\"StockName\"] = \"\"\n",
    "df[\"Category\"] = \"\"\n",
    "df[\"Price\"] = \"\""
   ]
  },
  {
   "cell_type": "code",
   "execution_count": 4,
   "metadata": {},
   "outputs": [
    {
     "data": {
      "text/html": [
       "<div>\n",
       "<style scoped>\n",
       "    .dataframe tbody tr th:only-of-type {\n",
       "        vertical-align: middle;\n",
       "    }\n",
       "\n",
       "    .dataframe tbody tr th {\n",
       "        vertical-align: top;\n",
       "    }\n",
       "\n",
       "    .dataframe thead th {\n",
       "        text-align: right;\n",
       "    }\n",
       "</style>\n",
       "<table border=\"1\" class=\"dataframe\">\n",
       "  <thead>\n",
       "    <tr style=\"text-align: right;\">\n",
       "      <th></th>\n",
       "      <th>StockCode</th>\n",
       "      <th>StockName</th>\n",
       "      <th>Category</th>\n",
       "      <th>Price</th>\n",
       "    </tr>\n",
       "  </thead>\n",
       "  <tbody>\n",
       "    <tr>\n",
       "      <th>0</th>\n",
       "      <td>000660</td>\n",
       "      <td></td>\n",
       "      <td></td>\n",
       "      <td></td>\n",
       "    </tr>\n",
       "    <tr>\n",
       "      <th>1</th>\n",
       "      <td>005930</td>\n",
       "      <td></td>\n",
       "      <td></td>\n",
       "      <td></td>\n",
       "    </tr>\n",
       "    <tr>\n",
       "      <th>2</th>\n",
       "      <td>035420</td>\n",
       "      <td></td>\n",
       "      <td></td>\n",
       "      <td></td>\n",
       "    </tr>\n",
       "  </tbody>\n",
       "</table>\n",
       "</div>"
      ],
      "text/plain": [
       "  StockCode StockName Category Price\n",
       "0    000660                         \n",
       "1    005930                         \n",
       "2    035420                         "
      ]
     },
     "execution_count": 4,
     "metadata": {},
     "output_type": "execute_result"
    }
   ],
   "source": [
    "df"
   ]
  },
  {
   "cell_type": "markdown",
   "metadata": {},
   "source": [
    "## 1.1.2. load category table (in memory)\n",
    "- http://data.krx.co.kr/contents/MDC/MDI/mdiLoader/index.cmd?menuId=MDC0201020502\n",
    "- KRX에서 업종정보 포함한 종합 정보 csv file 다운 후, 메모리에 불러옴"
   ]
  },
  {
   "cell_type": "code",
   "execution_count": 5,
   "metadata": {},
   "outputs": [],
   "source": [
    "# Load the two CSV files with 'euc-kr' encoding\n",
    "df1 = pd.read_csv(\"db/doc/data_2239_20231121.csv\", encoding=\"euc-kr\")\n",
    "df2 = pd.read_csv(\"db/doc/data_2303_20231121.csv\", encoding=\"euc-kr\")\n",
    "\n",
    "# Concatenate the two DataFrames\n",
    "df3 = pd.concat([df1, df2])\n",
    "\n",
    "# If you want to reset the index\n",
    "krx_sector = df3.reset_index(drop=True)"
   ]
  },
  {
   "cell_type": "markdown",
   "metadata": {},
   "source": [
    "## 1.1.3. Add Stock{Name, Price} to [StockInfo(df)] by using API"
   ]
  },
  {
   "cell_type": "code",
   "execution_count": 6,
   "metadata": {},
   "outputs": [
    {
     "name": "stderr",
     "output_type": "stream",
     "text": [
      "  0%|          | 0/3 [00:00<?, ?it/s]"
     ]
    },
    {
     "name": "stderr",
     "output_type": "stream",
     "text": [
      "100%|██████████| 3/3 [00:05<00:00,  1.91s/it]\n"
     ]
    }
   ],
   "source": [
    "for _StockCode in tqdm.tqdm(df[\"StockCode\"]):\n",
    "    # Get the StockName and Price from the response\n",
    "\n",
    "    _ans = Get_Stock_Price(_StockCode)\n",
    "    _StockName = _ans[\"itmsNm\"]\n",
    "    _Price = _ans[\"clpr\"]\n",
    "    ###############################################################################\n",
    "    # Find the matching row in krx_sector\n",
    "    matching_sector = krx_sector[krx_sector[\"종목코드\"] == _StockCode][\"업종명\"]\n",
    "\n",
    "    df.loc[df[\"StockCode\"] == _StockCode, \"Category\"] = matching_sector.values[0]\n",
    "    ###############################################################################\n",
    "\n",
    "    # print(_StockName, _Price)\n",
    "    # Assign the value to the StockName column of the matching row\n",
    "    df.loc[df[\"StockCode\"] == _StockCode, \"StockName\"] = _StockName\n",
    "    df.loc[df[\"StockCode\"] == _StockCode, \"Price\"] = _Price\n"
   ]
  },
  {
   "cell_type": "code",
   "execution_count": 7,
   "metadata": {},
   "outputs": [
    {
     "data": {
      "text/html": [
       "<div>\n",
       "<style scoped>\n",
       "    .dataframe tbody tr th:only-of-type {\n",
       "        vertical-align: middle;\n",
       "    }\n",
       "\n",
       "    .dataframe tbody tr th {\n",
       "        vertical-align: top;\n",
       "    }\n",
       "\n",
       "    .dataframe thead th {\n",
       "        text-align: right;\n",
       "    }\n",
       "</style>\n",
       "<table border=\"1\" class=\"dataframe\">\n",
       "  <thead>\n",
       "    <tr style=\"text-align: right;\">\n",
       "      <th></th>\n",
       "      <th>StockCode</th>\n",
       "      <th>StockName</th>\n",
       "      <th>Category</th>\n",
       "      <th>Price</th>\n",
       "    </tr>\n",
       "  </thead>\n",
       "  <tbody>\n",
       "    <tr>\n",
       "      <th>0</th>\n",
       "      <td>000660</td>\n",
       "      <td>SK하이닉스</td>\n",
       "      <td>전기전자</td>\n",
       "      <td>129900</td>\n",
       "    </tr>\n",
       "    <tr>\n",
       "      <th>1</th>\n",
       "      <td>005930</td>\n",
       "      <td>삼성전자</td>\n",
       "      <td>전기전자</td>\n",
       "      <td>72500</td>\n",
       "    </tr>\n",
       "    <tr>\n",
       "      <th>2</th>\n",
       "      <td>035420</td>\n",
       "      <td>NAVER</td>\n",
       "      <td>서비스업</td>\n",
       "      <td>202000</td>\n",
       "    </tr>\n",
       "  </tbody>\n",
       "</table>\n",
       "</div>"
      ],
      "text/plain": [
       "  StockCode StockName Category   Price\n",
       "0    000660    SK하이닉스     전기전자  129900\n",
       "1    005930      삼성전자     전기전자   72500\n",
       "2    035420     NAVER     서비스업  202000"
      ]
     },
     "execution_count": 7,
     "metadata": {},
     "output_type": "execute_result"
    }
   ],
   "source": [
    "df"
   ]
  },
  {
   "cell_type": "markdown",
   "metadata": {},
   "source": [
    "## 1.1.4. 만든 df Table을 [StockInfo table]에 대입"
   ]
  },
  {
   "cell_type": "code",
   "execution_count": 8,
   "metadata": {},
   "outputs": [],
   "source": [
    "# Iterate over the rows of the DataFrame\n",
    "for index, row in df.iterrows():\n",
    "    # Create the INSERT statement\n",
    "    sql = f\"\"\"\n",
    "    INSERT INTO StockInfo (StockCode, StockName, Price, Category)\n",
    "    VALUES ('{row['StockCode']}', '{row['StockName']}', {row['Price']}, '{row['Category']}')\n",
    "    \"\"\"\n",
    "\n",
    "    # Execute the INSERT statement\n",
    "    cur.execute(sql)\n",
    "\n",
    "# Commit the changes and close the connection\n",
    "conn.commit()"
   ]
  },
  {
   "cell_type": "markdown",
   "metadata": {},
   "source": [
    "# 1.2. Update [UserInfo] Table \n",
    "- Update a [UserInfo].Blance\n",
    "- Update a [UserInfo].FavoriteCategory"
   ]
  },
  {
   "cell_type": "markdown",
   "metadata": {},
   "source": [
    "## 1.2.1 Update [UserInfo].Blance"
   ]
  },
  {
   "cell_type": "code",
   "execution_count": 9,
   "metadata": {},
   "outputs": [],
   "source": [
    "sql = f\"\"\"\n",
    "    SELECT ID, SUM(Count * Price) as TotalValue\n",
    "    FROM (\n",
    "        SELECT IndividualStockAcount.ID, IndividualStockAcount.StockCode, IndividualStockAcount.Count, StockInfo.Price\n",
    "        FROM IndividualStockAcount\n",
    "        JOIN StockInfo ON IndividualStockAcount.StockCode = StockInfo.StockCode\n",
    "    )\n",
    "    GROUP BY ID\n",
    "    \"\"\"\n",
    "\n",
    "df = pd.read_sql_query(sql, conn)"
   ]
  },
  {
   "cell_type": "code",
   "execution_count": 10,
   "metadata": {},
   "outputs": [
    {
     "data": {
      "text/html": [
       "<div>\n",
       "<style scoped>\n",
       "    .dataframe tbody tr th:only-of-type {\n",
       "        vertical-align: middle;\n",
       "    }\n",
       "\n",
       "    .dataframe tbody tr th {\n",
       "        vertical-align: top;\n",
       "    }\n",
       "\n",
       "    .dataframe thead th {\n",
       "        text-align: right;\n",
       "    }\n",
       "</style>\n",
       "<table border=\"1\" class=\"dataframe\">\n",
       "  <thead>\n",
       "    <tr style=\"text-align: right;\">\n",
       "      <th></th>\n",
       "      <th>ID</th>\n",
       "      <th>TotalValue</th>\n",
       "    </tr>\n",
       "  </thead>\n",
       "  <tbody>\n",
       "    <tr>\n",
       "      <th>0</th>\n",
       "      <td>jiho266</td>\n",
       "      <td>867000</td>\n",
       "    </tr>\n",
       "    <tr>\n",
       "      <th>1</th>\n",
       "      <td>jiho267</td>\n",
       "      <td>808000</td>\n",
       "    </tr>\n",
       "    <tr>\n",
       "      <th>2</th>\n",
       "      <td>jiho268</td>\n",
       "      <td>649500</td>\n",
       "    </tr>\n",
       "    <tr>\n",
       "      <th>3</th>\n",
       "      <td>jiho270</td>\n",
       "      <td>404400</td>\n",
       "    </tr>\n",
       "  </tbody>\n",
       "</table>\n",
       "</div>"
      ],
      "text/plain": [
       "        ID  TotalValue\n",
       "0  jiho266      867000\n",
       "1  jiho267      808000\n",
       "2  jiho268      649500\n",
       "3  jiho270      404400"
      ]
     },
     "execution_count": 10,
     "metadata": {},
     "output_type": "execute_result"
    }
   ],
   "source": [
    "df"
   ]
  },
  {
   "cell_type": "code",
   "execution_count": 11,
   "metadata": {},
   "outputs": [],
   "source": [
    "# Write the DataFrame to a temporary table in the SQLite database\n",
    "df.to_sql(\"temp\", conn, if_exists=\"replace\", index=False)\n",
    "\n",
    "# Update the UserInfo table based on the temporary table\n",
    "cur.execute(\n",
    "    \"\"\"\n",
    "    UPDATE UserInfo\n",
    "    SET Balance = (\n",
    "        SELECT TotalValue\n",
    "        FROM temp\n",
    "        WHERE temp.ID = UserInfo.ID\n",
    "    )\n",
    "    WHERE EXISTS (\n",
    "        SELECT 1\n",
    "        FROM temp\n",
    "        WHERE temp.ID = UserInfo.ID\n",
    "    )\n",
    "\"\"\"\n",
    ")\n",
    "cur.execute(\"DROP TABLE IF EXISTS temp\")  \n",
    "\n",
    "conn.commit()"
   ]
  },
  {
   "cell_type": "markdown",
   "metadata": {},
   "source": [
    "## 1.2.2. [IndividualStockAccount].TotalPrice"
   ]
  },
  {
   "cell_type": "code",
   "execution_count": 12,
   "metadata": {},
   "outputs": [],
   "source": [
    "sql = f\"\"\"\n",
    "    SELECT IndividualStockAcount.ID, IndividualStockAcount.StockCode, IndividualStockAcount.Count, StockInfo.Price\n",
    "    FROM IndividualStockAcount\n",
    "    JOIN StockInfo ON IndividualStockAcount.StockCode = StockInfo.StockCode\n",
    "    \"\"\"\n",
    "\n",
    "df = pd.read_sql_query(sql, conn)"
   ]
  },
  {
   "cell_type": "code",
   "execution_count": 13,
   "metadata": {},
   "outputs": [
    {
     "data": {
      "text/html": [
       "<div>\n",
       "<style scoped>\n",
       "    .dataframe tbody tr th:only-of-type {\n",
       "        vertical-align: middle;\n",
       "    }\n",
       "\n",
       "    .dataframe tbody tr th {\n",
       "        vertical-align: top;\n",
       "    }\n",
       "\n",
       "    .dataframe thead th {\n",
       "        text-align: right;\n",
       "    }\n",
       "</style>\n",
       "<table border=\"1\" class=\"dataframe\">\n",
       "  <thead>\n",
       "    <tr style=\"text-align: right;\">\n",
       "      <th></th>\n",
       "      <th>ID</th>\n",
       "      <th>StockCode</th>\n",
       "      <th>Count</th>\n",
       "      <th>Price</th>\n",
       "    </tr>\n",
       "  </thead>\n",
       "  <tbody>\n",
       "    <tr>\n",
       "      <th>0</th>\n",
       "      <td>jiho266</td>\n",
       "      <td>005930</td>\n",
       "      <td>3</td>\n",
       "      <td>72500</td>\n",
       "    </tr>\n",
       "    <tr>\n",
       "      <th>1</th>\n",
       "      <td>jiho267</td>\n",
       "      <td>035420</td>\n",
       "      <td>4</td>\n",
       "      <td>202000</td>\n",
       "    </tr>\n",
       "    <tr>\n",
       "      <th>2</th>\n",
       "      <td>jiho268</td>\n",
       "      <td>000660</td>\n",
       "      <td>5</td>\n",
       "      <td>129900</td>\n",
       "    </tr>\n",
       "    <tr>\n",
       "      <th>3</th>\n",
       "      <td>jiho266</td>\n",
       "      <td>000660</td>\n",
       "      <td>5</td>\n",
       "      <td>129900</td>\n",
       "    </tr>\n",
       "    <tr>\n",
       "      <th>4</th>\n",
       "      <td>jiho270</td>\n",
       "      <td>000660</td>\n",
       "      <td>1</td>\n",
       "      <td>129900</td>\n",
       "    </tr>\n",
       "    <tr>\n",
       "      <th>5</th>\n",
       "      <td>jiho270</td>\n",
       "      <td>005930</td>\n",
       "      <td>1</td>\n",
       "      <td>72500</td>\n",
       "    </tr>\n",
       "    <tr>\n",
       "      <th>6</th>\n",
       "      <td>jiho270</td>\n",
       "      <td>035420</td>\n",
       "      <td>1</td>\n",
       "      <td>202000</td>\n",
       "    </tr>\n",
       "  </tbody>\n",
       "</table>\n",
       "</div>"
      ],
      "text/plain": [
       "        ID StockCode  Count   Price\n",
       "0  jiho266    005930      3   72500\n",
       "1  jiho267    035420      4  202000\n",
       "2  jiho268    000660      5  129900\n",
       "3  jiho266    000660      5  129900\n",
       "4  jiho270    000660      1  129900\n",
       "5  jiho270    005930      1   72500\n",
       "6  jiho270    035420      1  202000"
      ]
     },
     "execution_count": 13,
     "metadata": {},
     "output_type": "execute_result"
    }
   ],
   "source": [
    "df"
   ]
  },
  {
   "cell_type": "code",
   "execution_count": 14,
   "metadata": {},
   "outputs": [],
   "source": [
    "# Write the DataFrame to a temporary table in the SQLite database\n",
    "df.to_sql(\"temp\", conn, if_exists=\"replace\", index=False)\n",
    "\n",
    "# Update the individualstockaccount table based on the temporary table\n",
    "cur.execute(\n",
    "    \"\"\"\n",
    "    UPDATE IndividualStockAcount\n",
    "    SET TotalPrice = (\n",
    "        SELECT Count * Price\n",
    "        FROM temp\n",
    "        WHERE temp.ID = IndividualStockAcount.ID AND temp.StockCode = IndividualStockAcount.StockCode\n",
    "    )\n",
    "    WHERE EXISTS (\n",
    "        SELECT 1\n",
    "        FROM temp\n",
    "        WHERE temp.ID = IndividualStockAcount.ID AND temp.StockCode = IndividualStockAcount.StockCode\n",
    "    )\n",
    "\"\"\"\n",
    ")\n",
    "cur.execute(\"DROP TABLE IF EXISTS temp\")\n",
    "conn.commit()"
   ]
  },
  {
   "cell_type": "markdown",
   "metadata": {},
   "source": [
    "## 1.2.3. Update the [UserInfo].FavCategory column\n",
    "- 각 Id마다의 Category별 TotalPrice합계를 구하고, 가장 큰 Category를 FavoriteCategory로 지정"
   ]
  },
  {
   "cell_type": "code",
   "execution_count": 15,
   "metadata": {},
   "outputs": [],
   "source": [
    "# Get the category with the highest sum of TotalPrice for each ID\n",
    "sql = \"\"\"\n",
    "SELECT IndividualStockAcount.ID, StockInfo.Category, SUM(IndividualStockAcount.TotalPrice) as Total\n",
    "FROM UserInfo\n",
    "LEFT JOIN IndividualStockAcount ON UserInfo.ID = IndividualStockAcount.ID\n",
    "LEFT JOIN StockInfo ON IndividualStockAcount.StockCode = StockInfo.StockCode\n",
    "GROUP BY IndividualStockAcount.ID, StockInfo.Category\n",
    "\"\"\"\n",
    "\n",
    "df = pd.read_sql_query(sql, conn)\n",
    "\n",
    "# Find the category with the highest sum of TotalPrice for each ID\n",
    "df = df.loc[df.groupby(\"ID\")[\"Total\"].idxmax()]\n",
    "\n",
    "# Update the UserInfo table with the FavCategory\n",
    "for index, row in df.iterrows():\n",
    "    sql = f\"\"\"\n",
    "    UPDATE UserInfo\n",
    "    SET FavCategory = '{row['Category']}' \n",
    "    WHERE ID = '{row['ID']}'\n",
    "    \"\"\"\n",
    "    cur.execute(sql)\n",
    "\n",
    "conn.commit()"
   ]
  },
  {
   "cell_type": "code",
   "execution_count": 16,
   "metadata": {},
   "outputs": [],
   "source": [
    "##"
   ]
  },
  {
   "cell_type": "code",
   "execution_count": 17,
   "metadata": {},
   "outputs": [
    {
     "data": {
      "text/html": [
       "<div>\n",
       "<style scoped>\n",
       "    .dataframe tbody tr th:only-of-type {\n",
       "        vertical-align: middle;\n",
       "    }\n",
       "\n",
       "    .dataframe tbody tr th {\n",
       "        vertical-align: top;\n",
       "    }\n",
       "\n",
       "    .dataframe thead th {\n",
       "        text-align: right;\n",
       "    }\n",
       "</style>\n",
       "<table border=\"1\" class=\"dataframe\">\n",
       "  <thead>\n",
       "    <tr style=\"text-align: right;\">\n",
       "      <th></th>\n",
       "      <th>ID</th>\n",
       "      <th>Category</th>\n",
       "      <th>Total</th>\n",
       "    </tr>\n",
       "  </thead>\n",
       "  <tbody>\n",
       "    <tr>\n",
       "      <th>1</th>\n",
       "      <td>jiho266</td>\n",
       "      <td>전기전자</td>\n",
       "      <td>867000.0</td>\n",
       "    </tr>\n",
       "    <tr>\n",
       "      <th>2</th>\n",
       "      <td>jiho267</td>\n",
       "      <td>서비스업</td>\n",
       "      <td>808000.0</td>\n",
       "    </tr>\n",
       "    <tr>\n",
       "      <th>3</th>\n",
       "      <td>jiho268</td>\n",
       "      <td>전기전자</td>\n",
       "      <td>649500.0</td>\n",
       "    </tr>\n",
       "    <tr>\n",
       "      <th>5</th>\n",
       "      <td>jiho270</td>\n",
       "      <td>전기전자</td>\n",
       "      <td>202400.0</td>\n",
       "    </tr>\n",
       "  </tbody>\n",
       "</table>\n",
       "</div>"
      ],
      "text/plain": [
       "        ID Category     Total\n",
       "1  jiho266     전기전자  867000.0\n",
       "2  jiho267     서비스업  808000.0\n",
       "3  jiho268     전기전자  649500.0\n",
       "5  jiho270     전기전자  202400.0"
      ]
     },
     "execution_count": 17,
     "metadata": {},
     "output_type": "execute_result"
    }
   ],
   "source": [
    "df"
   ]
  },
  {
   "cell_type": "code",
   "execution_count": null,
   "metadata": {},
   "outputs": [],
   "source": []
  }
 ],
 "metadata": {
  "kernelspec": {
   "display_name": "Python 3",
   "language": "python",
   "name": "python3"
  },
  "language_info": {
   "codemirror_mode": {
    "name": "ipython",
    "version": 3
   },
   "file_extension": ".py",
   "mimetype": "text/x-python",
   "name": "python",
   "nbconvert_exporter": "python",
   "pygments_lexer": "ipython3",
   "version": "3.12.0"
  }
 },
 "nbformat": 4,
 "nbformat_minor": 2
}
