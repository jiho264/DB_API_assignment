{
 "cells": [
  {
   "cell_type": "markdown",
   "metadata": {},
   "source": [
    "# 0. Open Database"
   ]
  },
  {
   "cell_type": "code",
   "execution_count": 1,
   "metadata": {},
   "outputs": [
    {
     "name": "stdout",
     "output_type": "stream",
     "text": [
      "Database initilized! load data from API and insert into database...\n"
     ]
    },
    {
     "name": "stderr",
     "output_type": "stream",
     "text": [
      "/Users/jiho/Desktop/DB_API_assignment/init_db.py:55: FutureWarning: Series.__getitem__ treating keys as positions is deprecated. In a future version, integer keys will always be treated as labels (consistent with DataFrame behavior). To access a value by position, use `ser.iloc[pos]`\n",
      "  row[1] = str(row[1]).zfill(6)\n",
      "/Users/jiho/Desktop/DB_API_assignment/init_db.py:55: FutureWarning: Series.__setitem__ treating keys as positions is deprecated. In a future version, integer keys will always be treated as labels (consistent with DataFrame behavior). To set a value by position, use `ser.iloc[pos] = value`\n",
      "  row[1] = str(row[1]).zfill(6)\n"
     ]
    }
   ],
   "source": [
    "import requests\n",
    "import pandas as pd\n",
    "import sqlite3\n",
    "import tqdm\n",
    "import requests as rq\n",
    "from bs4 import BeautifulSoup\n",
    "from io import BytesIO\n",
    "import re\n",
    "\n",
    "import myAPI_keys as Key\n",
    "import init_db\n",
    "\n",
    "init_db.init_entire_database()\n",
    "print(\"Database initilized! load data from API and insert into database...\")\n",
    "\n",
    "\n",
    "conn = sqlite3.connect(\"db/StockManageAPP.sqlite\")\n",
    "\n",
    "cur = conn.cursor()"
   ]
  },
  {
   "cell_type": "markdown",
   "metadata": {},
   "source": [
    "# 1. APP Loading"
   ]
  },
  {
   "cell_type": "markdown",
   "metadata": {},
   "source": [
    "## 1.1.1. Update [StockInfo] Table"
   ]
  },
  {
   "cell_type": "markdown",
   "metadata": {},
   "source": [
    "## 1.1.1. Defince Function : Get_Stock_Price \n",
    "- 한국증권거래소 API에 종목코드를 파라미터로 이용해, 종목명과 종가 가져옴."
   ]
  },
  {
   "cell_type": "code",
   "execution_count": 2,
   "metadata": {},
   "outputs": [],
   "source": [
    "def Get_Stock_Price(_code):\n",
    "    endpoint = \"http://apis.data.go.kr/1160100/service/GetStockSecuritiesInfoService/getStockPriceInfo\"\n",
    "    url = f\"{endpoint}?pageNo={1}&resultType=json&numOfRows={1}&serviceKey={Key.STOCK_INFO_ENCODED_KEY}&likeSrtnCd={_code}\"\n",
    "    response = (\n",
    "        requests.get(url).json().get(\"response\").get(\"body\").get(\"items\").get(\"item\")[0]\n",
    "    )\n",
    "    return response"
   ]
  },
  {
   "cell_type": "markdown",
   "metadata": {},
   "source": [
    "## 1.1.2. Add IndividualStockAcount.StockCode to [StockInfo Table(df)]\n",
    "- individual stock info table에서 stock code들을 모두 stock info에 적어야함"
   ]
  },
  {
   "cell_type": "code",
   "execution_count": 3,
   "metadata": {},
   "outputs": [],
   "source": [
    "# _tmp = cur.execute(\"SELECT DISTINCT StockCode FROM IndividualStockAcount\")\n",
    "df = pd.read_sql_query(\"SELECT DISTINCT StockCode FROM IndividualStockAcount\", conn)\n",
    "df[\"StockName\"] = \"\"\n",
    "df[\"Category\"] = \"\"\n",
    "df[\"Price\"] = \"\""
   ]
  },
  {
   "cell_type": "code",
   "execution_count": 4,
   "metadata": {},
   "outputs": [
    {
     "data": {
      "text/html": [
       "<div>\n",
       "<style scoped>\n",
       "    .dataframe tbody tr th:only-of-type {\n",
       "        vertical-align: middle;\n",
       "    }\n",
       "\n",
       "    .dataframe tbody tr th {\n",
       "        vertical-align: top;\n",
       "    }\n",
       "\n",
       "    .dataframe thead th {\n",
       "        text-align: right;\n",
       "    }\n",
       "</style>\n",
       "<table border=\"1\" class=\"dataframe\">\n",
       "  <thead>\n",
       "    <tr style=\"text-align: right;\">\n",
       "      <th></th>\n",
       "      <th>StockCode</th>\n",
       "      <th>StockName</th>\n",
       "      <th>Category</th>\n",
       "      <th>Price</th>\n",
       "    </tr>\n",
       "  </thead>\n",
       "  <tbody>\n",
       "    <tr>\n",
       "      <th>0</th>\n",
       "      <td>000660</td>\n",
       "      <td></td>\n",
       "      <td></td>\n",
       "      <td></td>\n",
       "    </tr>\n",
       "    <tr>\n",
       "      <th>1</th>\n",
       "      <td>005930</td>\n",
       "      <td></td>\n",
       "      <td></td>\n",
       "      <td></td>\n",
       "    </tr>\n",
       "    <tr>\n",
       "      <th>2</th>\n",
       "      <td>035420</td>\n",
       "      <td></td>\n",
       "      <td></td>\n",
       "      <td></td>\n",
       "    </tr>\n",
       "  </tbody>\n",
       "</table>\n",
       "</div>"
      ],
      "text/plain": [
       "  StockCode StockName Category Price\n",
       "0    000660                         \n",
       "1    005930                         \n",
       "2    035420                         "
      ]
     },
     "execution_count": 4,
     "metadata": {},
     "output_type": "execute_result"
    }
   ],
   "source": [
    "df"
   ]
  },
  {
   "cell_type": "markdown",
   "metadata": {},
   "source": [
    "## 1.1.2. load category table (in memory)"
   ]
  },
  {
   "cell_type": "markdown",
   "metadata": {},
   "source": [
    "### Function: Get_Stock_Category_Info\n",
    "- api한계로 한국증권거래소 크롤링\n",
    "- 여기 실행오류 잦은데, 다시 실행하면 잘 됨."
   ]
  },
  {
   "cell_type": "code",
   "execution_count": 5,
   "metadata": {},
   "outputs": [],
   "source": [
    "def Get_Stock_Category_Info():\n",
    "    url = \"https://finance.naver.com/sise/sise_deposit.nhn\"\n",
    "    data = rq.get(url)\n",
    "    data_html = BeautifulSoup(data.content)\n",
    "    parse_day = data_html.select_one(\n",
    "        \"div.subtop_sise_graph2 > ul.subtop_chart_note > li > span.tah\"\n",
    "    ).text\n",
    "\n",
    "    #print(parse_day)\n",
    "\n",
    "    biz_day = re.findall(\"[0-9]+\", parse_day)\n",
    "    biz_day = \"\".join(biz_day)\n",
    "\n",
    "    #print(biz_day)\n",
    "    ######################################################################################\n",
    "\n",
    "    gen_otp_url = \"http://data.krx.co.kr/comm/fileDn/GenerateOTP/generate.cmd\"\n",
    "    gen_otp_stk = {\n",
    "        \"mktId\": \"STK\",\n",
    "        \"trdDd\": biz_day,\n",
    "        \"money\": \"1\",\n",
    "        \"csvxls_isNo\": \"false\",\n",
    "        \"name\": \"fileDown\",\n",
    "        \"url\": \"dbms/MDC/STAT/standard/MDCSTAT03901\",\n",
    "    }\n",
    "    headers = {\"Referer\": \"http://data.krx.co.kr/contents/MDC/MDI/mdiLoader\"}\n",
    "    otp_stk = rq.post(gen_otp_url, gen_otp_stk, headers=headers).text\n",
    "\n",
    "    # print(otp_stk)\n",
    "    down_url = \"http://data.krx.co.kr/comm/fileDn/download_csv/download.cmd\"\n",
    "    down_sector_stk = rq.post(down_url, {\"code\": otp_stk}, headers=headers)\n",
    "    sector_stk = pd.read_csv(BytesIO(down_sector_stk.content), encoding=\"EUC-KR\")\n",
    "    ######################################################################################\n",
    "    gen_otp_ksq = {\n",
    "        \"mktId\": \"KSQ\",  # 코스닥 입력\n",
    "        \"trdDd\": biz_day,\n",
    "        \"money\": \"1\",\n",
    "        \"csvxls_isNo\": \"false\",\n",
    "        \"name\": \"fileDown\",\n",
    "        \"url\": \"dbms/MDC/STAT/standard/MDCSTAT03901\",\n",
    "    }\n",
    "    otp_ksq = rq.post(gen_otp_url, gen_otp_ksq, headers=headers).text\n",
    "\n",
    "    down_sector_ksq = rq.post(down_url, {\"code\": otp_ksq}, headers=headers)\n",
    "    sector_ksq = pd.read_csv(BytesIO(down_sector_ksq.content), encoding=\"EUC-KR\")\n",
    "    ######################################################################################\n",
    "    krx_sector = pd.concat([sector_stk, sector_ksq]).reset_index(drop=True)\n",
    "    krx_sector[\"종목명\"] = krx_sector[\"종목명\"].str.strip()\n",
    "    krx_sector[\"기준일\"] = biz_day\n",
    "\n",
    "    return krx_sector\n"
   ]
  },
  {
   "cell_type": "code",
   "execution_count": 6,
   "metadata": {},
   "outputs": [
    {
     "data": {
      "text/html": [
       "<div>\n",
       "<style scoped>\n",
       "    .dataframe tbody tr th:only-of-type {\n",
       "        vertical-align: middle;\n",
       "    }\n",
       "\n",
       "    .dataframe tbody tr th {\n",
       "        vertical-align: top;\n",
       "    }\n",
       "\n",
       "    .dataframe thead th {\n",
       "        text-align: right;\n",
       "    }\n",
       "</style>\n",
       "<table border=\"1\" class=\"dataframe\">\n",
       "  <thead>\n",
       "    <tr style=\"text-align: right;\">\n",
       "      <th></th>\n",
       "      <th>종목코드</th>\n",
       "      <th>종목명</th>\n",
       "      <th>시장구분</th>\n",
       "      <th>업종명</th>\n",
       "      <th>종가</th>\n",
       "      <th>대비</th>\n",
       "      <th>등락률</th>\n",
       "      <th>시가총액</th>\n",
       "      <th>기준일</th>\n",
       "    </tr>\n",
       "  </thead>\n",
       "  <tbody>\n",
       "    <tr>\n",
       "      <th>0</th>\n",
       "      <td>095570</td>\n",
       "      <td>AJ네트웍스</td>\n",
       "      <td>KOSPI</td>\n",
       "      <td>서비스업</td>\n",
       "      <td>4185</td>\n",
       "      <td>90</td>\n",
       "      <td>2.20</td>\n",
       "      <td>189382796415</td>\n",
       "      <td>20231116</td>\n",
       "    </tr>\n",
       "    <tr>\n",
       "      <th>1</th>\n",
       "      <td>006840</td>\n",
       "      <td>AK홀딩스</td>\n",
       "      <td>KOSPI</td>\n",
       "      <td>기타금융</td>\n",
       "      <td>17940</td>\n",
       "      <td>-40</td>\n",
       "      <td>-0.22</td>\n",
       "      <td>237661244340</td>\n",
       "      <td>20231116</td>\n",
       "    </tr>\n",
       "    <tr>\n",
       "      <th>2</th>\n",
       "      <td>027410</td>\n",
       "      <td>BGF</td>\n",
       "      <td>KOSPI</td>\n",
       "      <td>기타금융</td>\n",
       "      <td>3530</td>\n",
       "      <td>-5</td>\n",
       "      <td>-0.14</td>\n",
       "      <td>337880272230</td>\n",
       "      <td>20231116</td>\n",
       "    </tr>\n",
       "    <tr>\n",
       "      <th>3</th>\n",
       "      <td>282330</td>\n",
       "      <td>BGF리테일</td>\n",
       "      <td>KOSPI</td>\n",
       "      <td>유통업</td>\n",
       "      <td>139600</td>\n",
       "      <td>-1600</td>\n",
       "      <td>-1.13</td>\n",
       "      <td>2412833277600</td>\n",
       "      <td>20231116</td>\n",
       "    </tr>\n",
       "    <tr>\n",
       "      <th>4</th>\n",
       "      <td>138930</td>\n",
       "      <td>BNK금융지주</td>\n",
       "      <td>KOSPI</td>\n",
       "      <td>기타금융</td>\n",
       "      <td>7070</td>\n",
       "      <td>-20</td>\n",
       "      <td>-0.28</td>\n",
       "      <td>2277165256660</td>\n",
       "      <td>20231116</td>\n",
       "    </tr>\n",
       "  </tbody>\n",
       "</table>\n",
       "</div>"
      ],
      "text/plain": [
       "     종목코드      종목명   시장구분   업종명      종가    대비   등락률           시가총액       기준일\n",
       "0  095570   AJ네트웍스  KOSPI  서비스업    4185    90  2.20   189382796415  20231116\n",
       "1  006840    AK홀딩스  KOSPI  기타금융   17940   -40 -0.22   237661244340  20231116\n",
       "2  027410      BGF  KOSPI  기타금융    3530    -5 -0.14   337880272230  20231116\n",
       "3  282330   BGF리테일  KOSPI   유통업  139600 -1600 -1.13  2412833277600  20231116\n",
       "4  138930  BNK금융지주  KOSPI  기타금융    7070   -20 -0.28  2277165256660  20231116"
      ]
     },
     "execution_count": 6,
     "metadata": {},
     "output_type": "execute_result"
    }
   ],
   "source": [
    "krx_sector = Get_Stock_Category_Info()\n",
    "krx_sector.head()"
   ]
  },
  {
   "cell_type": "markdown",
   "metadata": {},
   "source": [
    "## 1.1.3. Add Stock{Name, Price} to [StockInfo(df)] by using API"
   ]
  },
  {
   "cell_type": "code",
   "execution_count": 7,
   "metadata": {},
   "outputs": [
    {
     "name": "stderr",
     "output_type": "stream",
     "text": [
      "  0%|          | 0/3 [00:00<?, ?it/s]"
     ]
    },
    {
     "name": "stderr",
     "output_type": "stream",
     "text": [
      "100%|██████████| 3/3 [00:05<00:00,  1.89s/it]\n"
     ]
    }
   ],
   "source": [
    "for _StockCode in tqdm.tqdm(df[\"StockCode\"]):\n",
    "    # Get the StockName and Price from the response\n",
    "\n",
    "    _ans = Get_Stock_Price(_StockCode)\n",
    "    _StockName = _ans[\"itmsNm\"]\n",
    "    _Price = _ans[\"clpr\"]\n",
    "    ###############################################################################\n",
    "    # Find the matching row in krx_sector\n",
    "    matching_sector = krx_sector[krx_sector[\"종목코드\"] == _StockCode][\"업종명\"]\n",
    "\n",
    "    df.loc[df[\"StockCode\"] == _StockCode, \"Category\"] = matching_sector.values[0]\n",
    "    ###############################################################################\n",
    "\n",
    "    # print(_StockName, _Price)\n",
    "    # Assign the value to the StockName column of the matching row\n",
    "    df.loc[df[\"StockCode\"] == _StockCode, \"StockName\"] = _StockName\n",
    "    df.loc[df[\"StockCode\"] == _StockCode, \"Price\"] = _Price\n"
   ]
  },
  {
   "cell_type": "code",
   "execution_count": 8,
   "metadata": {},
   "outputs": [
    {
     "data": {
      "text/html": [
       "<div>\n",
       "<style scoped>\n",
       "    .dataframe tbody tr th:only-of-type {\n",
       "        vertical-align: middle;\n",
       "    }\n",
       "\n",
       "    .dataframe tbody tr th {\n",
       "        vertical-align: top;\n",
       "    }\n",
       "\n",
       "    .dataframe thead th {\n",
       "        text-align: right;\n",
       "    }\n",
       "</style>\n",
       "<table border=\"1\" class=\"dataframe\">\n",
       "  <thead>\n",
       "    <tr style=\"text-align: right;\">\n",
       "      <th></th>\n",
       "      <th>StockCode</th>\n",
       "      <th>StockName</th>\n",
       "      <th>Category</th>\n",
       "      <th>Price</th>\n",
       "    </tr>\n",
       "  </thead>\n",
       "  <tbody>\n",
       "    <tr>\n",
       "      <th>0</th>\n",
       "      <td>000660</td>\n",
       "      <td>SK하이닉스</td>\n",
       "      <td>전기전자</td>\n",
       "      <td>129900</td>\n",
       "    </tr>\n",
       "    <tr>\n",
       "      <th>1</th>\n",
       "      <td>005930</td>\n",
       "      <td>삼성전자</td>\n",
       "      <td>전기전자</td>\n",
       "      <td>72500</td>\n",
       "    </tr>\n",
       "    <tr>\n",
       "      <th>2</th>\n",
       "      <td>035420</td>\n",
       "      <td>NAVER</td>\n",
       "      <td>서비스업</td>\n",
       "      <td>202000</td>\n",
       "    </tr>\n",
       "  </tbody>\n",
       "</table>\n",
       "</div>"
      ],
      "text/plain": [
       "  StockCode StockName Category   Price\n",
       "0    000660    SK하이닉스     전기전자  129900\n",
       "1    005930      삼성전자     전기전자   72500\n",
       "2    035420     NAVER     서비스업  202000"
      ]
     },
     "execution_count": 8,
     "metadata": {},
     "output_type": "execute_result"
    }
   ],
   "source": [
    "df"
   ]
  },
  {
   "cell_type": "markdown",
   "metadata": {},
   "source": [
    "## 1.1.4. 만든 df Table을 [StockInfo table]에 대입"
   ]
  },
  {
   "cell_type": "code",
   "execution_count": 9,
   "metadata": {},
   "outputs": [],
   "source": [
    "# Iterate over the rows of the DataFrame\n",
    "for index, row in df.iterrows():\n",
    "    # Create the INSERT statement\n",
    "    sql = f\"\"\"\n",
    "    INSERT INTO StockInfo (StockCode, StockName, Price, Category)\n",
    "    VALUES ('{row['StockCode']}', '{row['StockName']}', {row['Price']}, '{row['Category']}')\n",
    "    \"\"\"\n",
    "\n",
    "    # Execute the INSERT statement\n",
    "    cur.execute(sql)\n",
    "\n",
    "# Commit the changes and close the connection\n",
    "conn.commit()"
   ]
  },
  {
   "cell_type": "markdown",
   "metadata": {},
   "source": [
    "# 1.2. Update [UserInfo] Table \n",
    "- Update a [UserInfo].Blance\n",
    "- Update a [UserInfo].FavoriteCategory"
   ]
  },
  {
   "cell_type": "markdown",
   "metadata": {},
   "source": [
    "## 1.2.1 Update [UserInfo].Blance"
   ]
  },
  {
   "cell_type": "code",
   "execution_count": 10,
   "metadata": {},
   "outputs": [],
   "source": [
    "sql = f\"\"\"\n",
    "    SELECT ID, SUM(Count * Price) as TotalValue\n",
    "    FROM (\n",
    "        SELECT IndividualStockAcount.ID, IndividualStockAcount.StockCode, IndividualStockAcount.Count, StockInfo.Price\n",
    "        FROM IndividualStockAcount\n",
    "        JOIN StockInfo ON IndividualStockAcount.StockCode = StockInfo.StockCode\n",
    "    )\n",
    "    GROUP BY ID\n",
    "    \"\"\"\n",
    "\n",
    "df = pd.read_sql_query(sql, conn)"
   ]
  },
  {
   "cell_type": "code",
   "execution_count": 11,
   "metadata": {},
   "outputs": [
    {
     "data": {
      "text/html": [
       "<div>\n",
       "<style scoped>\n",
       "    .dataframe tbody tr th:only-of-type {\n",
       "        vertical-align: middle;\n",
       "    }\n",
       "\n",
       "    .dataframe tbody tr th {\n",
       "        vertical-align: top;\n",
       "    }\n",
       "\n",
       "    .dataframe thead th {\n",
       "        text-align: right;\n",
       "    }\n",
       "</style>\n",
       "<table border=\"1\" class=\"dataframe\">\n",
       "  <thead>\n",
       "    <tr style=\"text-align: right;\">\n",
       "      <th></th>\n",
       "      <th>ID</th>\n",
       "      <th>TotalValue</th>\n",
       "    </tr>\n",
       "  </thead>\n",
       "  <tbody>\n",
       "    <tr>\n",
       "      <th>0</th>\n",
       "      <td>jiho266</td>\n",
       "      <td>867000</td>\n",
       "    </tr>\n",
       "    <tr>\n",
       "      <th>1</th>\n",
       "      <td>jiho267</td>\n",
       "      <td>808000</td>\n",
       "    </tr>\n",
       "    <tr>\n",
       "      <th>2</th>\n",
       "      <td>jiho268</td>\n",
       "      <td>649500</td>\n",
       "    </tr>\n",
       "    <tr>\n",
       "      <th>3</th>\n",
       "      <td>jiho270</td>\n",
       "      <td>404400</td>\n",
       "    </tr>\n",
       "  </tbody>\n",
       "</table>\n",
       "</div>"
      ],
      "text/plain": [
       "        ID  TotalValue\n",
       "0  jiho266      867000\n",
       "1  jiho267      808000\n",
       "2  jiho268      649500\n",
       "3  jiho270      404400"
      ]
     },
     "execution_count": 11,
     "metadata": {},
     "output_type": "execute_result"
    }
   ],
   "source": [
    "df"
   ]
  },
  {
   "cell_type": "code",
   "execution_count": 12,
   "metadata": {},
   "outputs": [],
   "source": [
    "# Write the DataFrame to a temporary table in the SQLite database\n",
    "df.to_sql(\"temp\", conn, if_exists=\"replace\", index=False)\n",
    "\n",
    "# Update the UserInfo table based on the temporary table\n",
    "cur.execute(\n",
    "    \"\"\"\n",
    "    UPDATE UserInfo\n",
    "    SET Balance = (\n",
    "        SELECT TotalValue\n",
    "        FROM temp\n",
    "        WHERE temp.ID = UserInfo.ID\n",
    "    )\n",
    "    WHERE EXISTS (\n",
    "        SELECT 1\n",
    "        FROM temp\n",
    "        WHERE temp.ID = UserInfo.ID\n",
    "    )\n",
    "\"\"\"\n",
    ")\n",
    "cur.execute(\"DROP TABLE IF EXISTS temp\")  \n",
    "\n",
    "conn.commit()"
   ]
  },
  {
   "cell_type": "markdown",
   "metadata": {},
   "source": [
    "## 1.2.2. [IndividualStockAccount].TotalPrice"
   ]
  },
  {
   "cell_type": "code",
   "execution_count": 13,
   "metadata": {},
   "outputs": [],
   "source": [
    "sql = f\"\"\"\n",
    "    SELECT IndividualStockAcount.ID, IndividualStockAcount.StockCode, IndividualStockAcount.Count, StockInfo.Price\n",
    "    FROM IndividualStockAcount\n",
    "    JOIN StockInfo ON IndividualStockAcount.StockCode = StockInfo.StockCode\n",
    "    \"\"\"\n",
    "\n",
    "df = pd.read_sql_query(sql, conn)"
   ]
  },
  {
   "cell_type": "code",
   "execution_count": 14,
   "metadata": {},
   "outputs": [
    {
     "data": {
      "text/html": [
       "<div>\n",
       "<style scoped>\n",
       "    .dataframe tbody tr th:only-of-type {\n",
       "        vertical-align: middle;\n",
       "    }\n",
       "\n",
       "    .dataframe tbody tr th {\n",
       "        vertical-align: top;\n",
       "    }\n",
       "\n",
       "    .dataframe thead th {\n",
       "        text-align: right;\n",
       "    }\n",
       "</style>\n",
       "<table border=\"1\" class=\"dataframe\">\n",
       "  <thead>\n",
       "    <tr style=\"text-align: right;\">\n",
       "      <th></th>\n",
       "      <th>ID</th>\n",
       "      <th>StockCode</th>\n",
       "      <th>Count</th>\n",
       "      <th>Price</th>\n",
       "    </tr>\n",
       "  </thead>\n",
       "  <tbody>\n",
       "    <tr>\n",
       "      <th>0</th>\n",
       "      <td>jiho266</td>\n",
       "      <td>005930</td>\n",
       "      <td>3</td>\n",
       "      <td>72500</td>\n",
       "    </tr>\n",
       "    <tr>\n",
       "      <th>1</th>\n",
       "      <td>jiho267</td>\n",
       "      <td>035420</td>\n",
       "      <td>4</td>\n",
       "      <td>202000</td>\n",
       "    </tr>\n",
       "    <tr>\n",
       "      <th>2</th>\n",
       "      <td>jiho268</td>\n",
       "      <td>000660</td>\n",
       "      <td>5</td>\n",
       "      <td>129900</td>\n",
       "    </tr>\n",
       "    <tr>\n",
       "      <th>3</th>\n",
       "      <td>jiho266</td>\n",
       "      <td>000660</td>\n",
       "      <td>5</td>\n",
       "      <td>129900</td>\n",
       "    </tr>\n",
       "    <tr>\n",
       "      <th>4</th>\n",
       "      <td>jiho270</td>\n",
       "      <td>000660</td>\n",
       "      <td>1</td>\n",
       "      <td>129900</td>\n",
       "    </tr>\n",
       "    <tr>\n",
       "      <th>5</th>\n",
       "      <td>jiho270</td>\n",
       "      <td>005930</td>\n",
       "      <td>1</td>\n",
       "      <td>72500</td>\n",
       "    </tr>\n",
       "    <tr>\n",
       "      <th>6</th>\n",
       "      <td>jiho270</td>\n",
       "      <td>035420</td>\n",
       "      <td>1</td>\n",
       "      <td>202000</td>\n",
       "    </tr>\n",
       "  </tbody>\n",
       "</table>\n",
       "</div>"
      ],
      "text/plain": [
       "        ID StockCode  Count   Price\n",
       "0  jiho266    005930      3   72500\n",
       "1  jiho267    035420      4  202000\n",
       "2  jiho268    000660      5  129900\n",
       "3  jiho266    000660      5  129900\n",
       "4  jiho270    000660      1  129900\n",
       "5  jiho270    005930      1   72500\n",
       "6  jiho270    035420      1  202000"
      ]
     },
     "execution_count": 14,
     "metadata": {},
     "output_type": "execute_result"
    }
   ],
   "source": [
    "df"
   ]
  },
  {
   "cell_type": "code",
   "execution_count": 15,
   "metadata": {},
   "outputs": [],
   "source": [
    "# Write the DataFrame to a temporary table in the SQLite database\n",
    "df.to_sql(\"temp\", conn, if_exists=\"replace\", index=False)\n",
    "\n",
    "# Update the individualstockaccount table based on the temporary table\n",
    "cur.execute(\n",
    "    \"\"\"\n",
    "    UPDATE IndividualStockAcount\n",
    "    SET TotalPrice = (\n",
    "        SELECT Count * Price\n",
    "        FROM temp\n",
    "        WHERE temp.ID = IndividualStockAcount.ID AND temp.StockCode = IndividualStockAcount.StockCode\n",
    "    )\n",
    "    WHERE EXISTS (\n",
    "        SELECT 1\n",
    "        FROM temp\n",
    "        WHERE temp.ID = IndividualStockAcount.ID AND temp.StockCode = IndividualStockAcount.StockCode\n",
    "    )\n",
    "\"\"\"\n",
    ")\n",
    "cur.execute(\"DROP TABLE IF EXISTS temp\")\n",
    "conn.commit()"
   ]
  },
  {
   "cell_type": "markdown",
   "metadata": {},
   "source": [
    "## 1.2.3. Update the [UserInfo].FavCategory column\n",
    "- 각 Id마다의 Category별 TotalPrice합계를 구하고, 가장 큰 Category를 FavoriteCategory로 지정"
   ]
  },
  {
   "cell_type": "code",
   "execution_count": 19,
   "metadata": {},
   "outputs": [],
   "source": [
    "# Get the category with the highest sum of TotalPrice for each ID\n",
    "sql = \"\"\"\n",
    "SELECT IndividualStockAcount.ID, StockInfo.Category, SUM(IndividualStockAcount.TotalPrice) as Total\n",
    "FROM UserInfo\n",
    "LEFT JOIN IndividualStockAcount ON UserInfo.ID = IndividualStockAcount.ID\n",
    "LEFT JOIN StockInfo ON IndividualStockAcount.StockCode = StockInfo.StockCode\n",
    "GROUP BY IndividualStockAcount.ID, StockInfo.Category\n",
    "\"\"\"\n",
    "\n",
    "df = pd.read_sql_query(sql, conn)\n",
    "\n",
    "# Find the category with the highest sum of TotalPrice for each ID\n",
    "df = df.loc[df.groupby(\"ID\")[\"Total\"].idxmax()]\n",
    "\n",
    "# Update the UserInfo table with the FavCategory\n",
    "for index, row in df.iterrows():\n",
    "    sql = f\"\"\"\n",
    "    UPDATE UserInfo\n",
    "    SET FavCategory = '{row['Category']}' \n",
    "    WHERE ID = '{row['ID']}'\n",
    "    \"\"\"\n",
    "    cur.execute(sql)\n",
    "\n",
    "conn.commit()"
   ]
  },
  {
   "cell_type": "code",
   "execution_count": null,
   "metadata": {},
   "outputs": [],
   "source": []
  }
 ],
 "metadata": {
  "kernelspec": {
   "display_name": "Python 3",
   "language": "python",
   "name": "python3"
  },
  "language_info": {
   "codemirror_mode": {
    "name": "ipython",
    "version": 3
   },
   "file_extension": ".py",
   "mimetype": "text/x-python",
   "name": "python",
   "nbconvert_exporter": "python",
   "pygments_lexer": "ipython3",
   "version": "3.12.0"
  }
 },
 "nbformat": 4,
 "nbformat_minor": 2
}
