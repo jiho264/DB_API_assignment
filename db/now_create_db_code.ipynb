{
 "cells": [
  {
   "cell_type": "markdown",
   "metadata": {},
   "source": [
    "# Create DB"
   ]
  },
  {
   "cell_type": "code",
   "execution_count": 6,
   "metadata": {},
   "outputs": [],
   "source": [
    "import pandas as pd\n",
    "import sqlite3\n",
    "\n",
    "# SQLite 데이터베이스에 연결\n",
    "conn = sqlite3.connect(\"StockManageAPP.sqlite\")\n",
    "\n",
    "# 커서 생성\n",
    "cur = conn.cursor()"
   ]
  },
  {
   "cell_type": "markdown",
   "metadata": {},
   "source": [
    "## Init DB"
   ]
  },
  {
   "cell_type": "code",
   "execution_count": 7,
   "metadata": {},
   "outputs": [],
   "source": [
    "db_init_script = \"\"\"\n",
    "drop table if exists UserInfo;\n",
    "drop table if exists StockInfo;\n",
    "drop table if exists IndividualStockAcount;\n",
    "\n",
    "create table UserInfo(ID text, PW text, Balance int CHECK(Balance >= 0), Deposit int, FavCategory text,\n",
    "primary key (ID));\n",
    "\n",
    "create table StockInfo(StockCode text, StockName text, Category text, Price int,\n",
    "primary key(StockCode));\n",
    "\n",
    "create table IndividualStockAcount(ID text, StockCode text, StockName text, Count int, TotalPrice int,\n",
    "primary key(ID, StockCode),\n",
    "foreign key (ID) references UserInfo(ID),\n",
    "foreign key (StockCode) references StockInfo(StockCode)\n",
    ");\n",
    "\"\"\"\n",
    "\n",
    "# SQL 쿼리 실행\n",
    "cur.executescript(db_init_script)\n",
    "# 변경사항 커밋\n",
    "conn.commit()"
   ]
  },
  {
   "cell_type": "markdown",
   "metadata": {},
   "source": [
    "## Load Data (UserInfo)"
   ]
  },
  {
   "cell_type": "code",
   "execution_count": 8,
   "metadata": {},
   "outputs": [],
   "source": [
    "\n",
    "# Read data from Excel file\n",
    "excel_file_path = \"doc/UserInfo.xlsx\"  # replace with your file path\n",
    "df = pd.read_excel(excel_file_path)\n",
    "\n",
    "\n",
    "# Insert the data into the table\n",
    "for index, row in df.iterrows():\n",
    "    cur.execute(\n",
    "        f\"INSERT INTO UserInfo VALUES ({', '.join(['?' for _ in row])})\", tuple(row)\n",
    "    )\n",
    "\n",
    "# Commit the changes and close the connection\n",
    "conn.commit()\n"
   ]
  },
  {
   "cell_type": "markdown",
   "metadata": {},
   "source": [
    "## Load Data (UserInfo)"
   ]
  },
  {
   "cell_type": "code",
   "execution_count": 9,
   "metadata": {},
   "outputs": [
    {
     "name": "stderr",
     "output_type": "stream",
     "text": [
      "/var/folders/5c/wv993t2x5_j6ck444smxp6t00000gn/T/ipykernel_35594/1575180048.py:9: FutureWarning: Series.__getitem__ treating keys as positions is deprecated. In a future version, integer keys will always be treated as labels (consistent with DataFrame behavior). To access a value by position, use `ser.iloc[pos]`\n",
      "  row[1] = str(row[1]).zfill(6)\n",
      "/var/folders/5c/wv993t2x5_j6ck444smxp6t00000gn/T/ipykernel_35594/1575180048.py:9: FutureWarning: Series.__setitem__ treating keys as positions is deprecated. In a future version, integer keys will always be treated as labels (consistent with DataFrame behavior). To set a value by position, use `ser.iloc[pos] = value`\n",
      "  row[1] = str(row[1]).zfill(6)\n"
     ]
    }
   ],
   "source": [
    "# Read data from Excel file\n",
    "excel_file_path = \"doc/IndividualStockAcount.xlsx\"  # replace with your file path\n",
    "df = pd.read_excel(excel_file_path)\n",
    "\n",
    "\n",
    "# Insert the data into the table\n",
    "for index, row in df.iterrows():\n",
    "    # Convert the first element of the row to a string and fill with zeros to make it 6 digits\n",
    "    row[1] = str(row[1]).zfill(6)\n",
    "    cur.execute(\n",
    "        f\"INSERT INTO IndividualStockAcount VALUES ({', '.join(['?' for _ in row])})\",\n",
    "        tuple(row),\n",
    "    )\n",
    "\n",
    "# Commit the changes and close the connection\n",
    "conn.commit()"
   ]
  },
  {
   "cell_type": "markdown",
   "metadata": {},
   "source": [
    "## Close DB"
   ]
  },
  {
   "cell_type": "code",
   "execution_count": 10,
   "metadata": {},
   "outputs": [],
   "source": [
    "conn.close()"
   ]
  }
 ],
 "metadata": {
  "kernelspec": {
   "display_name": "Python 3",
   "language": "python",
   "name": "python3"
  },
  "language_info": {
   "codemirror_mode": {
    "name": "ipython",
    "version": 3
   },
   "file_extension": ".py",
   "mimetype": "text/x-python",
   "name": "python",
   "nbconvert_exporter": "python",
   "pygments_lexer": "ipython3",
   "version": "3.12.0"
  }
 },
 "nbformat": 4,
 "nbformat_minor": 2
}
