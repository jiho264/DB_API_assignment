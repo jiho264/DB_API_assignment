{
 "cells": [
  {
   "cell_type": "markdown",
   "metadata": {},
   "source": [
    "geocoding \n",
    "- "
   ]
  },
  {
   "cell_type": "code",
   "execution_count": 9,
   "metadata": {},
   "outputs": [],
   "source": [
    "import requests\n",
    "import myAPI_keys"
   ]
  },
  {
   "cell_type": "code",
   "execution_count": 10,
   "metadata": {},
   "outputs": [],
   "source": [
    "r = requests.get('https://www.google.com')"
   ]
  },
  {
   "cell_type": "code",
   "execution_count": 11,
   "metadata": {},
   "outputs": [
    {
     "name": "stdout",
     "output_type": "stream",
     "text": [
      "{'Date': 'Fri, 17 Nov 2023 07:04:30 GMT', 'Expires': '-1', 'Cache-Control': 'private, max-age=0', 'Content-Type': 'text/html; charset=ISO-8859-1', 'Content-Security-Policy-Report-Only': \"object-src 'none';base-uri 'self';script-src 'nonce-XOkr3InBCIoTWAtt3cj3Mg' 'strict-dynamic' 'report-sample' 'unsafe-eval' 'unsafe-inline' https: http:;report-uri https://csp.withgoogle.com/csp/gws/other-hp\", 'P3P': 'CP=\"This is not a P3P policy! See g.co/p3phelp for more info.\"', 'Content-Encoding': 'gzip', 'Server': 'gws', 'X-XSS-Protection': '0', 'X-Frame-Options': 'SAMEORIGIN', 'Set-Cookie': '1P_JAR=2023-11-17-07; expires=Sun, 17-Dec-2023 07:04:30 GMT; path=/; domain=.google.com; Secure, AEC=Ackid1TnZCviCElnjap3Mp6KT7eA47SD-s2HoZiaV5qMZLVWiMtv02-L5g; expires=Wed, 15-May-2024 07:04:30 GMT; path=/; domain=.google.com; Secure; HttpOnly; SameSite=lax, NID=511=TV57X3a7DLltv8E_YKL_K8HM6w-XnTiRxSaawQdpHMRkyPBm1DCO240TxPUsAesxp3eUqEf2QP02IJEsNhsT7GqrDADkaxWZRJ_MQbfu-cQLcX3ABf6WrwWVIAqxuC0Ke1MolDKiIaFwq1c3GsoiYmP5NJ5lBuhLF5EaeTOUtIs; expires=Sat, 18-May-2024 07:04:30 GMT; path=/; domain=.google.com; HttpOnly', 'Alt-Svc': 'h3=\":443\"; ma=2592000,h3-29=\":443\"; ma=2592000', 'Transfer-Encoding': 'chunked'}\n"
     ]
    }
   ],
   "source": [
    "print(r.headers)"
   ]
  },
  {
   "cell_type": "code",
   "execution_count": 12,
   "metadata": {},
   "outputs": [
    {
     "name": "stdout",
     "output_type": "stream",
     "text": [
      "Getting geo code is success. 인천광역시 연수구 아카데미로 119\n",
      "X : 126.6332532, Y : 37.3754977\n"
     ]
    }
   ],
   "source": [
    "def getGeoCode(address, client_id, client_secret):\n",
    "    header = {\"X-NCP-APIGW-API-KEY-ID\": client_id, \"X-NCP-APIGW-API-KEY\": client_secret}\n",
    "    endpoint = \"https://naveropenapi.apigw.ntruss.com/map-geocode/v2/geocode\"\n",
    "    url = f\"{endpoint}?query={address}\"\n",
    "    res = requests.get(url, headers=header)\n",
    "    return res\n",
    "\n",
    "\n",
    "if __name__ == \"__main__\":\n",
    "    address = \"인천광역시 연수구 아카데미로 119\"\n",
    "    client_id = myAPI_keys.GEO_CLIENT_ID\n",
    "    client_secret = myAPI_keys.GEO_CLIENT_SECRET\n",
    "\n",
    "    response = getGeoCode(address, client_id, client_secret)\n",
    "\n",
    "    if response.status_code == 200:\n",
    "        result = response.json()\n",
    "        print(f\"Getting geo code is success. {address}\")\n",
    "        print(f\"X : {result['addresses'][0]['x']}, Y : {result['addresses'][0]['y']}\")\n",
    "    else:\n",
    "        print(f\"error code: {response}\")"
   ]
  },
  {
   "cell_type": "code",
   "execution_count": 13,
   "metadata": {},
   "outputs": [],
   "source": [
    "r = getGeoCode(\n",
    "    \"인천광역시 연수구 아카데미로 119\", myAPI_keys.GEO_CLIENT_ID, myAPI_keys.GEO_CLIENT_SECRET\n",
    ")"
   ]
  },
  {
   "cell_type": "code",
   "execution_count": 14,
   "metadata": {},
   "outputs": [
    {
     "name": "stdout",
     "output_type": "stream",
     "text": [
      "{'status': 'OK', 'meta': {'totalCount': 1, 'page': 1, 'count': 1}, 'addresses': [{'roadAddress': '인천광역시 연수구 아카데미로 119 인천대학교', 'jibunAddress': '인천광역시 연수구 송도동 12-1 인천대학교', 'englishAddress': '119, Academy-ro, Yeonsu-gu, Incheon, Republic of Korea', 'addressElements': [{'types': ['SIDO'], 'longName': '인천광역시', 'shortName': '인천광역시', 'code': ''}, {'types': ['SIGUGUN'], 'longName': '연수구', 'shortName': '연수구', 'code': ''}, {'types': ['DONGMYUN'], 'longName': '송도동', 'shortName': '송도동', 'code': ''}, {'types': ['RI'], 'longName': '', 'shortName': '', 'code': ''}, {'types': ['ROAD_NAME'], 'longName': '아카데미로', 'shortName': '아카데미로', 'code': ''}, {'types': ['BUILDING_NUMBER'], 'longName': '119', 'shortName': '119', 'code': ''}, {'types': ['BUILDING_NAME'], 'longName': '인천대학교', 'shortName': '인천대학교', 'code': ''}, {'types': ['LAND_NUMBER'], 'longName': '12-1', 'shortName': '12-1', 'code': ''}, {'types': ['POSTAL_CODE'], 'longName': '22012', 'shortName': '22012', 'code': ''}], 'x': '126.6332532', 'y': '37.3754977', 'distance': 0.0}], 'errorMessage': ''}\n"
     ]
    }
   ],
   "source": [
    "print(r.json())"
   ]
  },
  {
   "cell_type": "code",
   "execution_count": 15,
   "metadata": {},
   "outputs": [
    {
     "name": "stdout",
     "output_type": "stream",
     "text": [
      "인천광역시 연수구 아카데미로 119 인천대학교\n"
     ]
    }
   ],
   "source": [
    "print(r.json()['addresses'][0]['roadAddress'])"
   ]
  },
  {
   "cell_type": "code",
   "execution_count": 16,
   "metadata": {},
   "outputs": [
    {
     "name": "stdout",
     "output_type": "stream",
     "text": [
      "dd\n",
      "구월동 \t PM10 미세먼지 농도는 18입니다.\n",
      "숭의 \t PM10 미세먼지 농도는 13입니다.\n",
      "석바위 \t PM10 미세먼지 농도는 12입니다.\n",
      "부평역 \t PM10 미세먼지 농도는 24입니다.\n",
      "남동 \t PM10 미세먼지 농도는 19입니다.\n",
      "주안 \t PM10 미세먼지 농도는 -입니다.\n",
      "부평 \t PM10 미세먼지 농도는 10입니다.\n",
      "연희 \t PM10 미세먼지 농도는 13입니다.\n",
      "검단 \t PM10 미세먼지 농도는 13입니다.\n",
      "중봉 \t PM10 미세먼지 농도는 15입니다.\n",
      "계산 \t PM10 미세먼지 농도는 15입니다.\n",
      "효성 \t PM10 미세먼지 농도는 11입니다.\n",
      "임학 \t PM10 미세먼지 농도는 25입니다.\n",
      "서창 \t PM10 미세먼지 농도는 13입니다.\n",
      "석남 \t PM10 미세먼지 농도는 12입니다.\n",
      "송해 \t PM10 미세먼지 농도는 24입니다.\n",
      "동춘 \t PM10 미세먼지 농도는 8입니다.\n",
      "운서 \t PM10 미세먼지 농도는 15입니다.\n",
      "송현 \t PM10 미세먼지 농도는 13입니다.\n",
      "논현 \t PM10 미세먼지 농도는 10입니다.\n",
      "청라 \t PM10 미세먼지 농도는 11입니다.\n",
      "송도 \t PM10 미세먼지 농도는 13입니다.\n",
      "아암 \t PM10 미세먼지 농도는 10입니다.\n",
      "원당 \t PM10 미세먼지 농도는 16입니다.\n",
      "길상 \t PM10 미세먼지 농도는 37입니다.\n",
      "삼산 \t PM10 미세먼지 농도는 15입니다.\n",
      "경인항 \t PM10 미세먼지 농도는 27입니다.\n",
      "인천항 \t PM10 미세먼지 농도는 22입니다.\n",
      "인천 신항 \t PM10 미세먼지 농도는 13입니다.\n",
      "인천 북항 \t PM10 미세먼지 농도는 16입니다.\n",
      "고잔 \t PM10 미세먼지 농도는 10입니다.\n",
      "인천 남항 \t PM10 미세먼지 농도는 16입니다.\n",
      "석모리 \t PM10 미세먼지 농도는 22입니다.\n",
      "덕적도 \t PM10 미세먼지 농도는 13입니다.\n",
      "백령도 \t PM10 미세먼지 농도는 -입니다.\n",
      "영흥 \t PM10 미세먼지 농도는 8입니다.\n",
      "연평도 \t PM10 미세먼지 농도는 10입니다.\n",
      "울도 \t PM10 미세먼지 농도는 23입니다.\n",
      "신흥 \t PM10 미세먼지 농도는 8입니다.\n",
      "서해 \t PM10 미세먼지 농도는 21입니다.\n",
      "영종 \t PM10 미세먼지 농도는 13입니다.\n",
      "송림 \t PM10 미세먼지 농도는 10입니다.\n"
     ]
    }
   ],
   "source": [
    "def getAIR(city, key):\n",
    "    endpoint = (\n",
    "        \"http://apis.data.go.kr/B552584/ArpltnInforInqireSvc/getCtprvnRltmMesureDnsty\"\n",
    "    )\n",
    "    url = f\"{endpoint}?sidoName={city}&pageNo=1&returnType=json&numOfRows=100&serviceKey={key}&ver=1.0\"\n",
    "    res = requests.post(url)\n",
    "    return res\n",
    "\n",
    "\n",
    "if __name__ == \"__main__\":\n",
    "    city = \"인천\"\n",
    "\n",
    "    key = myAPI_keys.AIR_ENCODED_KEY\n",
    "\n",
    "    response = getAIR(city, key)\n",
    "    print(\"dd\")\n",
    "    if response.status_code == 200:\n",
    "        response_body = response.json()[\"response\"][\"body\"]\n",
    "        for item in response_body[\"items\"]:\n",
    "            print(f\"{item['stationName']} \\t PM10 미세먼지 농도는 {item['pm10Value']}입니다.\")\n",
    "    else:\n",
    "        print(f\"error code: {response}\")"
   ]
  }
 ],
 "metadata": {
  "kernelspec": {
   "display_name": "Python 3 (ipykernel)",
   "language": "python",
   "name": "python3"
  },
  "language_info": {
   "codemirror_mode": {
    "name": "ipython",
    "version": 3
   },
   "file_extension": ".py",
   "mimetype": "text/x-python",
   "name": "python",
   "nbconvert_exporter": "python",
   "pygments_lexer": "ipython3",
   "version": "3.12.0"
  }
 },
 "nbformat": 4,
 "nbformat_minor": 2
}
