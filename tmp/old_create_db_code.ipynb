{
 "cells": [
  {
   "cell_type": "code",
   "execution_count": 1,
   "metadata": {},
   "outputs": [],
   "source": [
    "import pandas as pd\n",
    "import sqlite3\n",
    "\n",
    "# initialize database\n",
    "#####################################################################################################\n",
    "\n",
    "conn = sqlite3.connect(\"sqlite_database.sqlite\")\n",
    "\n",
    "# 커서 생성\n",
    "cur = conn.cursor()\n",
    "\n",
    "# 모든 테이블 이름 가져오기\n",
    "cur.execute(\"SELECT name FROM sqlite_master WHERE type='table';\")\n",
    "tables = cur.fetchall()\n",
    "\n",
    "# 각 테이블 삭제\n",
    "for table in tables:\n",
    "    cur.execute(f\"DROP TABLE IF EXISTS {table[0]};\")\n",
    "\n",
    "#####################################################################################################\n",
    "# Read data from Excel file\n",
    "excel_file_path = \"user_info.xlsx\"  # replace with your file path\n",
    "df = pd.read_excel(excel_file_path)\n",
    "df.to_sql(\"UserInfo\", conn, if_exists=\"replace\", index=False)\n",
    "##################################3\n",
    "excel_file_path = \"IndividualStockAcount.xlsx\"  # replace with your file path\n",
    "df = pd.read_excel(excel_file_path)\n",
    "df.to_sql(\"IndividualStockAcount\", conn, if_exists=\"replace\", index=False)\n",
    "\n",
    "# Close the connection\n",
    "conn.close()"
   ]
  }
 ],
 "metadata": {
  "kernelspec": {
   "display_name": "Python 3",
   "language": "python",
   "name": "python3"
  },
  "language_info": {
   "codemirror_mode": {
    "name": "ipython",
    "version": 3
   },
   "file_extension": ".py",
   "mimetype": "text/x-python",
   "name": "python",
   "nbconvert_exporter": "python",
   "pygments_lexer": "ipython3",
   "version": "3.12.0"
  }
 },
 "nbformat": 4,
 "nbformat_minor": 2
}
